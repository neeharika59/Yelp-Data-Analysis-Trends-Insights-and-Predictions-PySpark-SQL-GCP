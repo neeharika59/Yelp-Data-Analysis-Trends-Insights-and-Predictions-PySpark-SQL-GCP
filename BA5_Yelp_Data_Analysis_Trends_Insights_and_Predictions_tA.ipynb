{
  "cells": [
    {
      "cell_type": "markdown",
      "id": "85271f9d-de38-4796-804b-c7c52f3757e6",
      "metadata": {
        "id": "85271f9d-de38-4796-804b-c7c52f3757e6"
      },
      "source": [
        "## Yelp Data Analysis: Trends, Insights, and Predictions\n",
        "\n",
        "**Group Members**\n",
        "1. Jonathan Blanco\n",
        "2. Dylan Kakkanad\n",
        "3. Neeharika Kamireddy\n",
        "4. Pengru Lin\n",
        "5. Yahui Wen"
      ]
    },
    {
      "cell_type": "markdown",
      "id": "938363a3-9a5b-4060-9dc3-367a0c6019f7",
      "metadata": {
        "id": "938363a3-9a5b-4060-9dc3-367a0c6019f7"
      },
      "source": [
        "### 1. Problem Definition"
      ]
    },
    {
      "cell_type": "markdown",
      "id": "198c9902-4932-40cc-ab0a-17846e2ad388",
      "metadata": {
        "id": "198c9902-4932-40cc-ab0a-17846e2ad388"
      },
      "source": [
        "This project aims to analyze text data in the form of user reviews, in conjunction with numerical information related to businesses and their users from the Yelp Dataset. We aim to utilize fundamental Spark methods to offload the heavy lifting to compile our dataset for analysis, carry out the necessary data cleaning steps, build an EDA, and apply some basic machine learning techniques. In doing so, we will uncover how information regarding various businesses and their reviews correlates with each other."
      ]
    },
    {
      "cell_type": "markdown",
      "id": "e9137000-a46a-42d5-88f9-03f92f1c7585",
      "metadata": {
        "id": "e9137000-a46a-42d5-88f9-03f92f1c7585"
      },
      "source": [
        "### 2. Data Source and Motivation"
      ]
    },
    {
      "cell_type": "markdown",
      "id": "efd51c01-cc22-4df6-ba93-a81ecdbaea14",
      "metadata": {
        "id": "efd51c01-cc22-4df6-ba93-a81ecdbaea14"
      },
      "source": [
        "Our dataset is from the official Yelp website and it consists of 5 tables: business, review, user, checkin, and tips. (link [here](https://www.yelp.com/dataset/documentation/main)\n",
        "). It is a comprehensive compilation of over 6 million reviews across over 150,000 businesses. The entire dataset amounts to approximately 10GB in storage.\n",
        "\n",
        "**Data Description**\n",
        "\n",
        "Our entire dataset consists of 5 tables:\n",
        "\n",
        "1. **business.json**\n",
        "\n",
        "| Column Name | Data Type | Description/Notes |\n",
        "|:-----------:|:---------:|:------------------|\n",
        "| address | string | Business address |\n",
        "| attributes | struct | Business attributes, such as AcceptsInsurance, AgesAllowed, Alcohol, etc. |\n",
        "| business_id | string | Unique identifier for the business |\n",
        "| categories | string | Categories associated with the business |\n",
        "| city | string | City where the business is located |\n",
        "| hours | struct | Business hours for each day of the week |\n",
        "| is_open | long | Indicator if the business is currently open (1) or closed (0) |\n",
        "| latitude | double | Latitude of the business location |\n",
        "| longitude | double | Longitude of the business location |\n",
        "| name | string | Name of the business |\n",
        "| postal_code | string | Postal code for the business location |\n",
        "| review_count | long | Number of reviews for the business |\n",
        "| stars | double | Star rating for the business |\n",
        "| state | string | State where the business is located |\n",
        "\n",
        "\n",
        "\n",
        "2. **review.json**\n",
        "\n",
        "| Column Name | Data Type | Description/Notes |\n",
        "|:-----------:|:---------:|:------------------|\n",
        "| business_id | string | Unique identifier for the business being reviewed |\n",
        "| cool | long | Number of 'cool' votes the review received |\n",
        "| date | string | Date when the review was posted |\n",
        "| funny | long | Number of 'funny' votes the review received |\n",
        "| review_id | string | Unique identifier for the review |\n",
        "| stars | double | Star rating given in the review |\n",
        "| text | string | Text content of the review |\n",
        "| useful | long | Number of 'useful' votes the review received |\n",
        "| user_id | string | Unique identifier for the user who posted the review |\n",
        "\n",
        "\n",
        "\n",
        "3. **user.json**\n",
        "\n",
        "| Column Name | Data Type | Description/Notes |\n",
        "|:-----------:|:---------:|:------------------|\n",
        "| average_stars | double | Average star rating given by the user |\n",
        "| compliment_cool | long | Number of 'cool' compliments received by the user |\n",
        "| compliment_cute | long | Number of 'cute' compliments received by the user |\n",
        "| compliment_funny | long | Number of 'funny' compliments received by the user |\n",
        "| compliment_hot | long | Number of 'hot' compliments received by the user |\n",
        "| compliment_list | long | Number of 'list' compliments received by the user |\n",
        "| compliment_more | long | Number of 'more' compliments received by the user |\n",
        "| compliment_note | long | Number of 'note' compliments received by the user |\n",
        "| compliment_photos | long | Number of 'photos' compliments received by the user |\n",
        "| compliment_plain | long | Number of 'plain' compliments received by the user |\n",
        "| compliment_profile | long | Number of 'profile' compliments received by the user |\n",
        "| compliment_writer | long | Number of 'writer' compliments received by the user |\n",
        "| cool | long | Number of 'cool' votes received by the user |\n",
        "| elite | string | Years the user was listed as 'elite' |\n",
        "| fans | long | Number of fans the user has |\n",
        "| friends | string | List of friends' user IDs |\n",
        "| funny | long | Number of 'funny' votes received by the user |\n",
        "| name | string | Name of the user |\n",
        "| review_count | long | Number of reviews written by the user |\n",
        "| useful | long | Number of 'useful' votes received by the user |\n",
        "| user_id | string | Unique identifier for the user |\n",
        "| yelping_since | string | Date when the user joined Yelp |\n",
        "\n",
        "\n",
        "\n",
        "4. **tips.json**\n",
        "\n",
        "| Column Name | Data Type | Description/Notes |\n",
        "|:-----------:|:---------:|:------------------|\n",
        "| business_id | string | Unique identifier for the business |\n",
        "| compliment_count | long | Number of compliments received for the tip |\n",
        "| date | string | Date when the tip was posted |\n",
        "| text | string | Text content of the tip |\n",
        "| user_id | string | Unique identifier for the user who posted the tip |\n",
        "\n",
        "\n",
        "\n",
        "5. **checkin.json**\n",
        "\n",
        "| Column Name | Data Type | Description/Notes |\n",
        "|:-----------:|:---------:|:------------------|\n",
        "| business_id | string | Unique identifier for the business |\n",
        "| date | string | String containing a list of dates and times when customers checked in |\n",
        "\n",
        "\n",
        "**Motivation**\n",
        "\n",
        "The motivation for this project is to acquire a deeper understanding of consumer inclinations and the operational efficacy of businesses across diverse sectors. This endeavor aims to facilitate the formulation of bespoke marketing approaches and the enhancement of customer service. Additionally, it encompasses the exploration of predictive analytics to anticipate and adapt to emerging market trends, thereby fostering a proactive business environment."
      ]
    },
    {
      "cell_type": "markdown",
      "id": "dab1f2e5-875a-49da-81d6-1f9240d86997",
      "metadata": {
        "id": "dab1f2e5-875a-49da-81d6-1f9240d86997"
      },
      "source": [
        "### 3. Executive Summary"
      ]
    },
    {
      "cell_type": "markdown",
      "id": "1256557c-83ba-406f-8aa9-863ca7adce15",
      "metadata": {
        "id": "1256557c-83ba-406f-8aa9-863ca7adce15"
      },
      "source": [
        "This project focuses on analyzing Yelp's dataset, which includes reviews on businesses across five tables: business, review, user, checkin, and tips. To derive insights from user reviews and business-related numerical data. Utilizing Spark for data processing, we worked on a comprehensive data analysis journey including data cleaning, EDA, and preliminary machine learning applications. Based on what we got from the data, we will derive some insights for the platform to improve their business, for example, correlations between user ratings and business attributes and the impact of reviews on business success.\n"
      ]
    },
    {
      "cell_type": "markdown",
      "id": "669543d0-02c2-4064-ac67-6f8d9f0f6b55",
      "metadata": {
        "id": "669543d0-02c2-4064-ac67-6f8d9f0f6b55"
      },
      "source": [
        "### 4. Exploratory Data Analysis"
      ]
    },
    {
      "cell_type": "markdown",
      "id": "4ffa4914-11af-4011-afc3-138fa9887771",
      "metadata": {
        "id": "4ffa4914-11af-4011-afc3-138fa9887771"
      },
      "source": [
        "#### 4.1 Import Data and Libraries"
      ]
    },
    {
      "cell_type": "code",
      "execution_count": null,
      "id": "ed7a1422-57c8-4ba0-b278-13b9484cca89",
      "metadata": {
        "id": "ed7a1422-57c8-4ba0-b278-13b9484cca89",
        "outputId": "46185d25-4840-47c6-a56f-2227e60e4e32"
      },
      "outputs": [
        {
          "name": "stdout",
          "output_type": "stream",
          "text": "Requirement already satisfied: plotly in /opt/conda/miniconda3/lib/python3.10/site-packages (5.20.0)\nRequirement already satisfied: tenacity>=6.2.0 in /opt/conda/miniconda3/lib/python3.10/site-packages (from plotly) (8.2.3)\nRequirement already satisfied: packaging in /opt/conda/miniconda3/lib/python3.10/site-packages (from plotly) (21.3)\nRequirement already satisfied: pyparsing!=3.0.5,>=2.0.2 in /opt/conda/miniconda3/lib/python3.10/site-packages (from packaging->plotly) (3.1.2)\n\u001b[33mWARNING: Running pip as the 'root' user can result in broken permissions and conflicting behaviour with the system package manager. It is recommended to use a virtual environment instead: https://pip.pypa.io/warnings/venv\u001b[0m\u001b[33m\n\u001b[0m"
        }
      ],
      "source": [
        "!pip install plotly"
      ]
    },
    {
      "cell_type": "code",
      "execution_count": null,
      "id": "67d783b9-6889-407f-9e99-ab46f1f0bf62",
      "metadata": {
        "id": "67d783b9-6889-407f-9e99-ab46f1f0bf62"
      },
      "outputs": [],
      "source": [
        "from pyspark.sql import functions as F\n",
        "import matplotlib.pyplot as plt\n",
        "import seaborn as sns\n",
        "from pyspark.sql.functions import col, avg, explode, split, row_number, count, year, stddev, max, when\n",
        "from pyspark.sql.window import Window\n",
        "import plotly.graph_objs as go\n",
        "import ipywidgets as widgets\n",
        "from IPython.display import display"
      ]
    },
    {
      "cell_type": "markdown",
      "id": "c6cc1558-ec15-4dee-b24b-72f5b5372791",
      "metadata": {
        "id": "c6cc1558-ec15-4dee-b24b-72f5b5372791"
      },
      "source": [
        "#### 4.2 Load Data"
      ]
    },
    {
      "cell_type": "code",
      "execution_count": null,
      "id": "662180b4-a94e-4fc2-b1a6-d2153527370e",
      "metadata": {
        "id": "662180b4-a94e-4fc2-b1a6-d2153527370e",
        "outputId": "d600f87b-bc1f-4ba0-82bb-9e53d19ddb55"
      },
      "outputs": [
        {
          "name": "stderr",
          "output_type": "stream",
          "text": "                                                                                \r"
        }
      ],
      "source": [
        "data = \"gs://yelp-data-ba843/notebooks/jupyter/data/\"\n",
        "df_review = spark.read.format(\"json\").load(data + \"yelp_academic_dataset_review.json\")"
      ]
    },
    {
      "cell_type": "code",
      "execution_count": null,
      "id": "de367758-ebce-400c-b953-7c038a85356e",
      "metadata": {
        "id": "de367758-ebce-400c-b953-7c038a85356e",
        "outputId": "ab460b32-741e-4db1-b041-84aa4de9c4eb"
      },
      "outputs": [
        {
          "name": "stdout",
          "output_type": "stream",
          "text": "root\n |-- business_id: string (nullable = true)\n |-- cool: long (nullable = true)\n |-- date: string (nullable = true)\n |-- funny: long (nullable = true)\n |-- review_id: string (nullable = true)\n |-- stars: double (nullable = true)\n |-- text: string (nullable = true)\n |-- useful: long (nullable = true)\n |-- user_id: string (nullable = true)\n\n"
        }
      ],
      "source": [
        "df_review.printSchema()"
      ]
    },
    {
      "cell_type": "code",
      "execution_count": null,
      "id": "f262cfda-741f-4216-8be4-26c137624c31",
      "metadata": {
        "id": "f262cfda-741f-4216-8be4-26c137624c31",
        "outputId": "3a5405a6-2aa1-4184-e8ed-ccc319cd08a9"
      },
      "outputs": [
        {
          "name": "stderr",
          "output_type": "stream",
          "text": "                                                                                \r"
        },
        {
          "name": "stdout",
          "output_type": "stream",
          "text": "root\n |-- address: string (nullable = true)\n |-- attributes: struct (nullable = true)\n |    |-- AcceptsInsurance: string (nullable = true)\n |    |-- AgesAllowed: string (nullable = true)\n |    |-- Alcohol: string (nullable = true)\n |    |-- Ambience: string (nullable = true)\n |    |-- BYOB: string (nullable = true)\n |    |-- BYOBCorkage: string (nullable = true)\n |    |-- BestNights: string (nullable = true)\n |    |-- BikeParking: string (nullable = true)\n |    |-- BusinessAcceptsBitcoin: string (nullable = true)\n |    |-- BusinessAcceptsCreditCards: string (nullable = true)\n |    |-- BusinessParking: string (nullable = true)\n |    |-- ByAppointmentOnly: string (nullable = true)\n |    |-- Caters: string (nullable = true)\n |    |-- CoatCheck: string (nullable = true)\n |    |-- Corkage: string (nullable = true)\n |    |-- DietaryRestrictions: string (nullable = true)\n |    |-- DogsAllowed: string (nullable = true)\n |    |-- DriveThru: string (nullable = true)\n |    |-- GoodForDancing: string (nullable = true)\n |    |-- GoodForKids: string (nullable = true)\n |    |-- GoodForMeal: string (nullable = true)\n |    |-- HairSpecializesIn: string (nullable = true)\n |    |-- HappyHour: string (nullable = true)\n |    |-- HasTV: string (nullable = true)\n |    |-- Music: string (nullable = true)\n |    |-- NoiseLevel: string (nullable = true)\n |    |-- Open24Hours: string (nullable = true)\n |    |-- OutdoorSeating: string (nullable = true)\n |    |-- RestaurantsAttire: string (nullable = true)\n |    |-- RestaurantsCounterService: string (nullable = true)\n |    |-- RestaurantsDelivery: string (nullable = true)\n |    |-- RestaurantsGoodForGroups: string (nullable = true)\n |    |-- RestaurantsPriceRange2: string (nullable = true)\n |    |-- RestaurantsReservations: string (nullable = true)\n |    |-- RestaurantsTableService: string (nullable = true)\n |    |-- RestaurantsTakeOut: string (nullable = true)\n |    |-- Smoking: string (nullable = true)\n |    |-- WheelchairAccessible: string (nullable = true)\n |    |-- WiFi: string (nullable = true)\n |-- business_id: string (nullable = true)\n |-- categories: string (nullable = true)\n |-- city: string (nullable = true)\n |-- hours: struct (nullable = true)\n |    |-- Friday: string (nullable = true)\n |    |-- Monday: string (nullable = true)\n |    |-- Saturday: string (nullable = true)\n |    |-- Sunday: string (nullable = true)\n |    |-- Thursday: string (nullable = true)\n |    |-- Tuesday: string (nullable = true)\n |    |-- Wednesday: string (nullable = true)\n |-- is_open: long (nullable = true)\n |-- latitude: double (nullable = true)\n |-- longitude: double (nullable = true)\n |-- name: string (nullable = true)\n |-- postal_code: string (nullable = true)\n |-- review_count: long (nullable = true)\n |-- stars: double (nullable = true)\n |-- state: string (nullable = true)\n\n"
        },
        {
          "name": "stderr",
          "output_type": "stream",
          "text": "24/04/02 00:07:10 WARN package: Truncated the string representation of a plan since it was too large. This behavior can be adjusted by setting 'spark.sql.debug.maxToStringFields'.\n"
        }
      ],
      "source": [
        "df_business = spark.read.format(\"json\").load(data + \"yelp_academic_dataset_business.json\")\n",
        "df_business.printSchema()"
      ]
    },
    {
      "cell_type": "code",
      "execution_count": null,
      "id": "8688c874-38b6-41eb-99f5-2b094c4d5c7e",
      "metadata": {
        "id": "8688c874-38b6-41eb-99f5-2b094c4d5c7e",
        "outputId": "6370071c-f9da-4fe8-9321-25235ec694a9"
      },
      "outputs": [
        {
          "name": "stderr",
          "output_type": "stream",
          "text": "[Stage 2:==============>                                            (1 + 3) / 4]\r"
        },
        {
          "name": "stdout",
          "output_type": "stream",
          "text": "root\n |-- business_id: string (nullable = true)\n |-- date: string (nullable = true)\n\n"
        },
        {
          "name": "stderr",
          "output_type": "stream",
          "text": "                                                                                \r"
        }
      ],
      "source": [
        "df_checkin = spark.read.format(\"json\").load(data + \"yelp_academic_dataset_checkin.json\")\n",
        "df_checkin.printSchema()"
      ]
    },
    {
      "cell_type": "code",
      "execution_count": null,
      "id": "523ecd2e-c625-4270-adc0-bb69361aae79",
      "metadata": {
        "id": "523ecd2e-c625-4270-adc0-bb69361aae79",
        "outputId": "8e81f133-46ae-478c-bcc9-0e4d00a590fe"
      },
      "outputs": [
        {
          "name": "stderr",
          "output_type": "stream",
          "text": "[Stage 3:>                                                          (0 + 4) / 4]\r"
        },
        {
          "name": "stdout",
          "output_type": "stream",
          "text": "root\n |-- business_id: string (nullable = true)\n |-- compliment_count: long (nullable = true)\n |-- date: string (nullable = true)\n |-- text: string (nullable = true)\n |-- user_id: string (nullable = true)\n\n"
        },
        {
          "name": "stderr",
          "output_type": "stream",
          "text": "                                                                                \r"
        }
      ],
      "source": [
        "df_tips = spark.read.format(\"json\").load(data + \"yelp_academic_dataset_tip.json\")\n",
        "df_tips.printSchema()"
      ]
    },
    {
      "cell_type": "code",
      "execution_count": null,
      "id": "7c527482-0bce-4be7-b2af-aa6d0ef3404e",
      "metadata": {
        "id": "7c527482-0bce-4be7-b2af-aa6d0ef3404e",
        "outputId": "0f859e16-82e0-4949-cd18-5eef69520583"
      },
      "outputs": [
        {
          "name": "stderr",
          "output_type": "stream",
          "text": "[Stage 4:====================================================>    (24 + 2) / 26]\r"
        },
        {
          "name": "stdout",
          "output_type": "stream",
          "text": "root\n |-- average_stars: double (nullable = true)\n |-- compliment_cool: long (nullable = true)\n |-- compliment_cute: long (nullable = true)\n |-- compliment_funny: long (nullable = true)\n |-- compliment_hot: long (nullable = true)\n |-- compliment_list: long (nullable = true)\n |-- compliment_more: long (nullable = true)\n |-- compliment_note: long (nullable = true)\n |-- compliment_photos: long (nullable = true)\n |-- compliment_plain: long (nullable = true)\n |-- compliment_profile: long (nullable = true)\n |-- compliment_writer: long (nullable = true)\n |-- cool: long (nullable = true)\n |-- elite: string (nullable = true)\n |-- fans: long (nullable = true)\n |-- friends: string (nullable = true)\n |-- funny: long (nullable = true)\n |-- name: string (nullable = true)\n |-- review_count: long (nullable = true)\n |-- useful: long (nullable = true)\n |-- user_id: string (nullable = true)\n |-- yelping_since: string (nullable = true)\n\n"
        },
        {
          "name": "stderr",
          "output_type": "stream",
          "text": "                                                                                \r"
        }
      ],
      "source": [
        "df_user = spark.read.format(\"json\").load(data + \"yelp_academic_dataset_user.json\")\n",
        "df_user.printSchema()"
      ]
    },
    {
      "cell_type": "markdown",
      "id": "0b3a500c-d0c6-4a80-bdee-da6e98d2a9e6",
      "metadata": {
        "id": "0b3a500c-d0c6-4a80-bdee-da6e98d2a9e6"
      },
      "source": [
        "#### 4.3 Data Preprocessing and Cleaning"
      ]
    },
    {
      "cell_type": "code",
      "execution_count": null,
      "id": "23473b8c-4cef-405e-8008-03efecf740d4",
      "metadata": {
        "id": "23473b8c-4cef-405e-8008-03efecf740d4",
        "outputId": "fee40e2f-f1d7-4268-ba25-d13c15b316e8"
      },
      "outputs": [
        {
          "data": {
            "text/plain": "DataFrame[business_id: string, cool: bigint, date: string, funny: bigint, review_id: string, stars: double, text: string, useful: bigint, user_id: string]"
          },
          "execution_count": 10,
          "metadata": {},
          "output_type": "execute_result"
        }
      ],
      "source": [
        "df_review.cache()"
      ]
    },
    {
      "cell_type": "code",
      "execution_count": null,
      "id": "8e03be77-9f5c-40cd-bb2d-d90cbef9873c",
      "metadata": {
        "id": "8e03be77-9f5c-40cd-bb2d-d90cbef9873c",
        "outputId": "9b5065a4-fac0-40f3-fd9d-d08b5b3a3878"
      },
      "outputs": [
        {
          "name": "stderr",
          "output_type": "stream",
          "text": "                                                                                \r"
        },
        {
          "data": {
            "text/plain": "6990280"
          },
          "execution_count": 11,
          "metadata": {},
          "output_type": "execute_result"
        }
      ],
      "source": [
        "df_review.count()"
      ]
    },
    {
      "cell_type": "code",
      "execution_count": null,
      "id": "548cb636-20d6-4fe2-aee8-97078c1519fb",
      "metadata": {
        "id": "548cb636-20d6-4fe2-aee8-97078c1519fb",
        "outputId": "7d7cae8c-951b-45a1-e59a-bef604410ee3"
      },
      "outputs": [
        {
          "data": {
            "text/html": "<div>\n<style scoped>\n    .dataframe tbody tr th:only-of-type {\n        vertical-align: middle;\n    }\n\n    .dataframe tbody tr th {\n        vertical-align: top;\n    }\n\n    .dataframe thead th {\n        text-align: right;\n    }\n</style>\n<table border=\"1\" class=\"dataframe\">\n  <thead>\n    <tr style=\"text-align: right;\">\n      <th></th>\n      <th>business_id</th>\n      <th>cool</th>\n      <th>date</th>\n      <th>funny</th>\n      <th>review_id</th>\n      <th>stars</th>\n      <th>text</th>\n      <th>useful</th>\n      <th>user_id</th>\n    </tr>\n  </thead>\n  <tbody>\n    <tr>\n      <th>0</th>\n      <td>XQfwVwDr-v0ZS3_CbbE5Xw</td>\n      <td>0</td>\n      <td>2018-07-07 22:09:11</td>\n      <td>0</td>\n      <td>KU_O5udG6zpxOg-VcAEodg</td>\n      <td>3.0</td>\n      <td>If you decide to eat here, just be aware it is...</td>\n      <td>0</td>\n      <td>mh_-eMZ6K5RLWhZyISBhwA</td>\n    </tr>\n    <tr>\n      <th>1</th>\n      <td>7ATYjTIgM3jUlt4UM3IypQ</td>\n      <td>1</td>\n      <td>2012-01-03 15:28:18</td>\n      <td>0</td>\n      <td>BiTunyQ73aT9WBnpR9DZGw</td>\n      <td>5.0</td>\n      <td>I've taken a lot of spin classes over the year...</td>\n      <td>1</td>\n      <td>OyoGAe7OKpv6SyGZT5g77Q</td>\n    </tr>\n    <tr>\n      <th>2</th>\n      <td>YjUWPpI6HXG530lwP-fb2A</td>\n      <td>0</td>\n      <td>2014-02-05 20:30:30</td>\n      <td>0</td>\n      <td>saUsX_uimxRlCVr67Z4Jig</td>\n      <td>3.0</td>\n      <td>Family diner. Had the buffet. Eclectic assortm...</td>\n      <td>0</td>\n      <td>8g_iMtfSiwikVnbP2etR0A</td>\n    </tr>\n  </tbody>\n</table>\n</div>",
            "text/plain": "              business_id  cool                 date  funny  \\\n0  XQfwVwDr-v0ZS3_CbbE5Xw     0  2018-07-07 22:09:11      0   \n1  7ATYjTIgM3jUlt4UM3IypQ     1  2012-01-03 15:28:18      0   \n2  YjUWPpI6HXG530lwP-fb2A     0  2014-02-05 20:30:30      0   \n\n                review_id  stars  \\\n0  KU_O5udG6zpxOg-VcAEodg    3.0   \n1  BiTunyQ73aT9WBnpR9DZGw    5.0   \n2  saUsX_uimxRlCVr67Z4Jig    3.0   \n\n                                                text  useful  \\\n0  If you decide to eat here, just be aware it is...       0   \n1  I've taken a lot of spin classes over the year...       1   \n2  Family diner. Had the buffet. Eclectic assortm...       0   \n\n                  user_id  \n0  mh_-eMZ6K5RLWhZyISBhwA  \n1  OyoGAe7OKpv6SyGZT5g77Q  \n2  8g_iMtfSiwikVnbP2etR0A  "
          },
          "execution_count": 12,
          "metadata": {},
          "output_type": "execute_result"
        }
      ],
      "source": [
        "df_review.limit(3).toPandas()"
      ]
    },
    {
      "cell_type": "code",
      "execution_count": null,
      "id": "e7befa71-214e-4f5a-8852-cfe723ed9108",
      "metadata": {
        "id": "e7befa71-214e-4f5a-8852-cfe723ed9108",
        "outputId": "055eacd1-ed39-42f9-8166-7b698319b410"
      },
      "outputs": [
        {
          "data": {
            "text/plain": "DataFrame[address: string, attributes: struct<AcceptsInsurance:string,AgesAllowed:string,Alcohol:string,Ambience:string,BYOB:string,BYOBCorkage:string,BestNights:string,BikeParking:string,BusinessAcceptsBitcoin:string,BusinessAcceptsCreditCards:string,BusinessParking:string,ByAppointmentOnly:string,Caters:string,CoatCheck:string,Corkage:string,DietaryRestrictions:string,DogsAllowed:string,DriveThru:string,GoodForDancing:string,GoodForKids:string,GoodForMeal:string,HairSpecializesIn:string,HappyHour:string,HasTV:string,Music:string,NoiseLevel:string,Open24Hours:string,OutdoorSeating:string,RestaurantsAttire:string,RestaurantsCounterService:string,RestaurantsDelivery:string,RestaurantsGoodForGroups:string,RestaurantsPriceRange2:string,RestaurantsReservations:string,RestaurantsTableService:string,RestaurantsTakeOut:string,Smoking:string,WheelchairAccessible:string,WiFi:string>, business_id: string, categories: string, city: string, hours: struct<Friday:string,Monday:string,Saturday:string,Sunday:string,Thursday:string,Tuesday:string,Wednesday:string>, is_open: bigint, latitude: double, longitude: double, name: string, postal_code: string, review_count: bigint, stars: double, state: string]"
          },
          "execution_count": 13,
          "metadata": {},
          "output_type": "execute_result"
        }
      ],
      "source": [
        "df_business.cache()"
      ]
    },
    {
      "cell_type": "code",
      "execution_count": null,
      "id": "aefa0b69-7229-4911-a34b-bb71a11136b3",
      "metadata": {
        "id": "aefa0b69-7229-4911-a34b-bb71a11136b3",
        "outputId": "f3ae042d-7d08-4e4a-aa9f-1990609b08f3"
      },
      "outputs": [
        {
          "name": "stderr",
          "output_type": "stream",
          "text": "[Stage 9:=============================>                             (2 + 2) / 4]\r"
        },
        {
          "data": {
            "text/plain": "150346"
          },
          "execution_count": 14,
          "metadata": {},
          "output_type": "execute_result"
        },
        {
          "name": "stderr",
          "output_type": "stream",
          "text": "                                                                                \r"
        }
      ],
      "source": [
        "df_business.count()"
      ]
    },
    {
      "cell_type": "code",
      "execution_count": null,
      "id": "0fbd5a2e-e6e0-4be7-839c-8a2d416783e2",
      "metadata": {
        "id": "0fbd5a2e-e6e0-4be7-839c-8a2d416783e2",
        "outputId": "28b6749c-62c2-46d0-cd0c-20ce9ced2661"
      },
      "outputs": [
        {
          "data": {
            "text/html": "<div>\n<style scoped>\n    .dataframe tbody tr th:only-of-type {\n        vertical-align: middle;\n    }\n\n    .dataframe tbody tr th {\n        vertical-align: top;\n    }\n\n    .dataframe thead th {\n        text-align: right;\n    }\n</style>\n<table border=\"1\" class=\"dataframe\">\n  <thead>\n    <tr style=\"text-align: right;\">\n      <th></th>\n      <th>address</th>\n      <th>attributes</th>\n      <th>business_id</th>\n      <th>categories</th>\n      <th>city</th>\n      <th>hours</th>\n      <th>is_open</th>\n      <th>latitude</th>\n      <th>longitude</th>\n      <th>name</th>\n      <th>postal_code</th>\n      <th>review_count</th>\n      <th>stars</th>\n      <th>state</th>\n    </tr>\n  </thead>\n  <tbody>\n    <tr>\n      <th>0</th>\n      <td>1616 Chapala St, Ste 2</td>\n      <td>(None, None, None, None, None, None, None, Non...</td>\n      <td>Pns2l4eNsfO8kk83dixA6A</td>\n      <td>Doctors, Traditional Chinese Medicine, Naturop...</td>\n      <td>Santa Barbara</td>\n      <td>None</td>\n      <td>0</td>\n      <td>34.426679</td>\n      <td>-119.711197</td>\n      <td>Abby Rappoport, LAC, CMQ</td>\n      <td>93101</td>\n      <td>7</td>\n      <td>5.0</td>\n      <td>CA</td>\n    </tr>\n    <tr>\n      <th>1</th>\n      <td>87 Grasso Plaza Shopping Center</td>\n      <td>(None, None, None, None, None, None, None, Non...</td>\n      <td>mpf3x-BjTdTEA3yCZrAYPw</td>\n      <td>Shipping Centers, Local Services, Notaries, Ma...</td>\n      <td>Affton</td>\n      <td>(8:0-18:30, 0:0-0:0, 8:0-14:0, None, 8:0-18:30...</td>\n      <td>1</td>\n      <td>38.551126</td>\n      <td>-90.335695</td>\n      <td>The UPS Store</td>\n      <td>63123</td>\n      <td>15</td>\n      <td>3.0</td>\n      <td>MO</td>\n    </tr>\n    <tr>\n      <th>2</th>\n      <td>5255 E Broadway Blvd</td>\n      <td>(None, None, None, None, None, None, None, Tru...</td>\n      <td>tUFrWirKiKi_TAnsVWINQQ</td>\n      <td>Department Stores, Shopping, Fashion, Home &amp; G...</td>\n      <td>Tucson</td>\n      <td>(8:0-23:0, 8:0-22:0, 8:0-23:0, 8:0-22:0, 8:0-2...</td>\n      <td>0</td>\n      <td>32.223236</td>\n      <td>-110.880452</td>\n      <td>Target</td>\n      <td>85711</td>\n      <td>22</td>\n      <td>3.5</td>\n      <td>AZ</td>\n    </tr>\n  </tbody>\n</table>\n</div>",
            "text/plain": "                           address  \\\n0           1616 Chapala St, Ste 2   \n1  87 Grasso Plaza Shopping Center   \n2             5255 E Broadway Blvd   \n\n                                          attributes             business_id  \\\n0  (None, None, None, None, None, None, None, Non...  Pns2l4eNsfO8kk83dixA6A   \n1  (None, None, None, None, None, None, None, Non...  mpf3x-BjTdTEA3yCZrAYPw   \n2  (None, None, None, None, None, None, None, Tru...  tUFrWirKiKi_TAnsVWINQQ   \n\n                                          categories           city  \\\n0  Doctors, Traditional Chinese Medicine, Naturop...  Santa Barbara   \n1  Shipping Centers, Local Services, Notaries, Ma...         Affton   \n2  Department Stores, Shopping, Fashion, Home & G...         Tucson   \n\n                                               hours  is_open   latitude  \\\n0                                               None        0  34.426679   \n1  (8:0-18:30, 0:0-0:0, 8:0-14:0, None, 8:0-18:30...        1  38.551126   \n2  (8:0-23:0, 8:0-22:0, 8:0-23:0, 8:0-22:0, 8:0-2...        0  32.223236   \n\n    longitude                      name postal_code  review_count  stars state  \n0 -119.711197  Abby Rappoport, LAC, CMQ       93101             7    5.0    CA  \n1  -90.335695             The UPS Store       63123            15    3.0    MO  \n2 -110.880452                    Target       85711            22    3.5    AZ  "
          },
          "execution_count": 15,
          "metadata": {},
          "output_type": "execute_result"
        }
      ],
      "source": [
        "df_business.limit(3).toPandas()"
      ]
    },
    {
      "cell_type": "code",
      "execution_count": null,
      "id": "c9bc6cae-1806-41bb-ab80-f545af06ede5",
      "metadata": {
        "id": "c9bc6cae-1806-41bb-ab80-f545af06ede5",
        "outputId": "dfd02d1a-ce50-4d0e-9ce6-1d40cee288d5"
      },
      "outputs": [
        {
          "data": {
            "text/plain": "DataFrame[business_id: string, compliment_count: bigint, date: string, text: string, user_id: string]"
          },
          "execution_count": 16,
          "metadata": {},
          "output_type": "execute_result"
        }
      ],
      "source": [
        "df_tips.cache()"
      ]
    },
    {
      "cell_type": "code",
      "execution_count": null,
      "id": "a059e235-f0cb-42ca-a735-327d728b5568",
      "metadata": {
        "id": "a059e235-f0cb-42ca-a735-327d728b5568",
        "outputId": "0acad694-0f0a-4357-ebb6-c9e87b7b67ca"
      },
      "outputs": [
        {
          "name": "stderr",
          "output_type": "stream",
          "text": "                                                                                \r"
        },
        {
          "data": {
            "text/plain": "908915"
          },
          "execution_count": 17,
          "metadata": {},
          "output_type": "execute_result"
        }
      ],
      "source": [
        "df_tips.count()"
      ]
    },
    {
      "cell_type": "code",
      "execution_count": null,
      "id": "21d4d703-c05d-4385-a867-fe4d5b25a55d",
      "metadata": {
        "id": "21d4d703-c05d-4385-a867-fe4d5b25a55d",
        "outputId": "a4b8d556-6a74-4787-b4a6-dd5b59cfd1f4"
      },
      "outputs": [
        {
          "data": {
            "text/html": "<div>\n<style scoped>\n    .dataframe tbody tr th:only-of-type {\n        vertical-align: middle;\n    }\n\n    .dataframe tbody tr th {\n        vertical-align: top;\n    }\n\n    .dataframe thead th {\n        text-align: right;\n    }\n</style>\n<table border=\"1\" class=\"dataframe\">\n  <thead>\n    <tr style=\"text-align: right;\">\n      <th></th>\n      <th>business_id</th>\n      <th>compliment_count</th>\n      <th>date</th>\n      <th>text</th>\n      <th>user_id</th>\n    </tr>\n  </thead>\n  <tbody>\n    <tr>\n      <th>0</th>\n      <td>3uLgwr0qeCNMjKenHJwPGQ</td>\n      <td>0</td>\n      <td>2012-05-18 02:17:21</td>\n      <td>Avengers time with the ladies.</td>\n      <td>AGNUgVwnZUey3gcPCJ76iw</td>\n    </tr>\n    <tr>\n      <th>1</th>\n      <td>QoezRbYQncpRqyrLH6Iqjg</td>\n      <td>0</td>\n      <td>2013-02-05 18:35:10</td>\n      <td>They have lots of good deserts and tasty cuban...</td>\n      <td>NBN4MgHP9D3cw--SnauTkA</td>\n    </tr>\n    <tr>\n      <th>2</th>\n      <td>MYoRNLb5chwjQe3c_k37Gg</td>\n      <td>0</td>\n      <td>2013-08-18 00:56:08</td>\n      <td>It's open even when you think it isn't</td>\n      <td>-copOvldyKh1qr-vzkDEvw</td>\n    </tr>\n  </tbody>\n</table>\n</div>",
            "text/plain": "              business_id  compliment_count                 date  \\\n0  3uLgwr0qeCNMjKenHJwPGQ                 0  2012-05-18 02:17:21   \n1  QoezRbYQncpRqyrLH6Iqjg                 0  2013-02-05 18:35:10   \n2  MYoRNLb5chwjQe3c_k37Gg                 0  2013-08-18 00:56:08   \n\n                                                text                 user_id  \n0                     Avengers time with the ladies.  AGNUgVwnZUey3gcPCJ76iw  \n1  They have lots of good deserts and tasty cuban...  NBN4MgHP9D3cw--SnauTkA  \n2             It's open even when you think it isn't  -copOvldyKh1qr-vzkDEvw  "
          },
          "execution_count": 18,
          "metadata": {},
          "output_type": "execute_result"
        }
      ],
      "source": [
        "df_tips.limit(3).toPandas()"
      ]
    },
    {
      "cell_type": "code",
      "execution_count": null,
      "id": "8831f944-2482-4260-88cd-bed8a055fe6e",
      "metadata": {
        "id": "8831f944-2482-4260-88cd-bed8a055fe6e",
        "outputId": "47c4a2f2-b7b4-48c3-8046-a96948207435"
      },
      "outputs": [
        {
          "data": {
            "text/plain": "DataFrame[business_id: string, date: string]"
          },
          "execution_count": 19,
          "metadata": {},
          "output_type": "execute_result"
        }
      ],
      "source": [
        "df_checkin.cache()"
      ]
    },
    {
      "cell_type": "code",
      "execution_count": null,
      "id": "902cf0b3-5f99-4cb8-bec0-c7084bff7988",
      "metadata": {
        "id": "902cf0b3-5f99-4cb8-bec0-c7084bff7988",
        "outputId": "d0dfd51e-f9e2-49d1-d645-b58cf0b3a066"
      },
      "outputs": [
        {
          "name": "stderr",
          "output_type": "stream",
          "text": "                                                                                \r"
        },
        {
          "data": {
            "text/plain": "131930"
          },
          "execution_count": 20,
          "metadata": {},
          "output_type": "execute_result"
        }
      ],
      "source": [
        "df_checkin.count()"
      ]
    },
    {
      "cell_type": "code",
      "execution_count": null,
      "id": "f4f8caa2-8adc-4dc5-a60b-0c0dbaefa098",
      "metadata": {
        "id": "f4f8caa2-8adc-4dc5-a60b-0c0dbaefa098",
        "outputId": "28ea8088-b11b-4d3d-9aaa-041c8a8021a3"
      },
      "outputs": [
        {
          "data": {
            "text/html": "<div>\n<style scoped>\n    .dataframe tbody tr th:only-of-type {\n        vertical-align: middle;\n    }\n\n    .dataframe tbody tr th {\n        vertical-align: top;\n    }\n\n    .dataframe thead th {\n        text-align: right;\n    }\n</style>\n<table border=\"1\" class=\"dataframe\">\n  <thead>\n    <tr style=\"text-align: right;\">\n      <th></th>\n      <th>business_id</th>\n      <th>date</th>\n    </tr>\n  </thead>\n  <tbody>\n    <tr>\n      <th>0</th>\n      <td>---kPU91CF4Lq2-WlRu9Lw</td>\n      <td>2020-03-13 21:10:56, 2020-06-02 22:18:06, 2020...</td>\n    </tr>\n    <tr>\n      <th>1</th>\n      <td>--0iUa4sNDFiZFrAdIWhZQ</td>\n      <td>2010-09-13 21:43:09, 2011-05-04 23:08:15, 2011...</td>\n    </tr>\n    <tr>\n      <th>2</th>\n      <td>--30_8IhuyMHbSOcNWd6DQ</td>\n      <td>2013-06-14 23:29:17, 2014-08-13 23:20:22</td>\n    </tr>\n  </tbody>\n</table>\n</div>",
            "text/plain": "              business_id                                               date\n0  ---kPU91CF4Lq2-WlRu9Lw  2020-03-13 21:10:56, 2020-06-02 22:18:06, 2020...\n1  --0iUa4sNDFiZFrAdIWhZQ  2010-09-13 21:43:09, 2011-05-04 23:08:15, 2011...\n2  --30_8IhuyMHbSOcNWd6DQ           2013-06-14 23:29:17, 2014-08-13 23:20:22"
          },
          "execution_count": 21,
          "metadata": {},
          "output_type": "execute_result"
        }
      ],
      "source": [
        "df_checkin.limit(3).toPandas()"
      ]
    },
    {
      "cell_type": "code",
      "execution_count": null,
      "id": "88756757-fded-41b6-913f-d373055e8728",
      "metadata": {
        "id": "88756757-fded-41b6-913f-d373055e8728",
        "outputId": "3cc55828-b728-4090-c0cf-fb4ba5fea652"
      },
      "outputs": [
        {
          "data": {
            "text/plain": "DataFrame[average_stars: double, compliment_cool: bigint, compliment_cute: bigint, compliment_funny: bigint, compliment_hot: bigint, compliment_list: bigint, compliment_more: bigint, compliment_note: bigint, compliment_photos: bigint, compliment_plain: bigint, compliment_profile: bigint, compliment_writer: bigint, cool: bigint, elite: string, fans: bigint, friends: string, funny: bigint, name: string, review_count: bigint, useful: bigint, user_id: string, yelping_since: string]"
          },
          "execution_count": 22,
          "metadata": {},
          "output_type": "execute_result"
        }
      ],
      "source": [
        "df_user.cache()"
      ]
    },
    {
      "cell_type": "code",
      "execution_count": null,
      "id": "4d556a14-cf09-431b-980a-370cbdfedb17",
      "metadata": {
        "id": "4d556a14-cf09-431b-980a-370cbdfedb17",
        "outputId": "44b3ae70-4032-4f32-dfe5-feaa4bd84d72"
      },
      "outputs": [
        {
          "name": "stderr",
          "output_type": "stream",
          "text": "                                                                                \r"
        },
        {
          "data": {
            "text/plain": "1987897"
          },
          "execution_count": 23,
          "metadata": {},
          "output_type": "execute_result"
        }
      ],
      "source": [
        "df_user.count()"
      ]
    },
    {
      "cell_type": "code",
      "execution_count": null,
      "id": "c18e78be-b042-428e-b734-ae376088e125",
      "metadata": {
        "id": "c18e78be-b042-428e-b734-ae376088e125",
        "outputId": "0ab68394-9368-43cc-c0b9-fed438eafff9"
      },
      "outputs": [
        {
          "data": {
            "text/html": "<div>\n<style scoped>\n    .dataframe tbody tr th:only-of-type {\n        vertical-align: middle;\n    }\n\n    .dataframe tbody tr th {\n        vertical-align: top;\n    }\n\n    .dataframe thead th {\n        text-align: right;\n    }\n</style>\n<table border=\"1\" class=\"dataframe\">\n  <thead>\n    <tr style=\"text-align: right;\">\n      <th></th>\n      <th>average_stars</th>\n      <th>compliment_cool</th>\n      <th>compliment_cute</th>\n      <th>compliment_funny</th>\n      <th>compliment_hot</th>\n      <th>compliment_list</th>\n      <th>compliment_more</th>\n      <th>compliment_note</th>\n      <th>compliment_photos</th>\n      <th>compliment_plain</th>\n      <th>...</th>\n      <th>cool</th>\n      <th>elite</th>\n      <th>fans</th>\n      <th>friends</th>\n      <th>funny</th>\n      <th>name</th>\n      <th>review_count</th>\n      <th>useful</th>\n      <th>user_id</th>\n      <th>yelping_since</th>\n    </tr>\n  </thead>\n  <tbody>\n    <tr>\n      <th>0</th>\n      <td>3.91</td>\n      <td>467</td>\n      <td>56</td>\n      <td>467</td>\n      <td>250</td>\n      <td>18</td>\n      <td>65</td>\n      <td>232</td>\n      <td>180</td>\n      <td>844</td>\n      <td>...</td>\n      <td>5994</td>\n      <td>2007</td>\n      <td>267</td>\n      <td>NSCy54eWehBJyZdG2iE84w, pe42u7DcCH2QmI81NX-8qA...</td>\n      <td>1259</td>\n      <td>Walker</td>\n      <td>585</td>\n      <td>7217</td>\n      <td>qVc8ODYU5SZjKXVBgXdI7w</td>\n      <td>2007-01-25 16:47:26</td>\n    </tr>\n    <tr>\n      <th>1</th>\n      <td>3.74</td>\n      <td>3131</td>\n      <td>157</td>\n      <td>3131</td>\n      <td>1145</td>\n      <td>251</td>\n      <td>264</td>\n      <td>1847</td>\n      <td>1946</td>\n      <td>7054</td>\n      <td>...</td>\n      <td>27281</td>\n      <td>2009,2010,2011,2012,2013,2014,2015,2016,2017,2...</td>\n      <td>3138</td>\n      <td>ueRPE0CX75ePGMqOFVj6IQ, 52oH4DrRvzzl8wh5UXyU0A...</td>\n      <td>13066</td>\n      <td>Daniel</td>\n      <td>4333</td>\n      <td>43091</td>\n      <td>j14WgRoU_-2ZE1aw1dXrJg</td>\n      <td>2009-01-25 04:35:42</td>\n    </tr>\n    <tr>\n      <th>2</th>\n      <td>3.32</td>\n      <td>119</td>\n      <td>17</td>\n      <td>119</td>\n      <td>89</td>\n      <td>3</td>\n      <td>13</td>\n      <td>66</td>\n      <td>18</td>\n      <td>96</td>\n      <td>...</td>\n      <td>1003</td>\n      <td>2009,2010,2011,2012,2013</td>\n      <td>52</td>\n      <td>LuO3Bn4f3rlhyHIaNfTlnA, j9B4XdHUhDfTKVecyWQgyA...</td>\n      <td>1010</td>\n      <td>Steph</td>\n      <td>665</td>\n      <td>2086</td>\n      <td>2WnXYQFK0hXEoTxPtV2zvg</td>\n      <td>2008-07-25 10:41:00</td>\n    </tr>\n  </tbody>\n</table>\n<p>3 rows × 22 columns</p>\n</div>",
            "text/plain": "   average_stars  compliment_cool  compliment_cute  compliment_funny  \\\n0           3.91              467               56               467   \n1           3.74             3131              157              3131   \n2           3.32              119               17               119   \n\n   compliment_hot  compliment_list  compliment_more  compliment_note  \\\n0             250               18               65              232   \n1            1145              251              264             1847   \n2              89                3               13               66   \n\n   compliment_photos  compliment_plain  ...   cool  \\\n0                180               844  ...   5994   \n1               1946              7054  ...  27281   \n2                 18                96  ...   1003   \n\n                                               elite  fans  \\\n0                                               2007   267   \n1  2009,2010,2011,2012,2013,2014,2015,2016,2017,2...  3138   \n2                           2009,2010,2011,2012,2013    52   \n\n                                             friends  funny    name  \\\n0  NSCy54eWehBJyZdG2iE84w, pe42u7DcCH2QmI81NX-8qA...   1259  Walker   \n1  ueRPE0CX75ePGMqOFVj6IQ, 52oH4DrRvzzl8wh5UXyU0A...  13066  Daniel   \n2  LuO3Bn4f3rlhyHIaNfTlnA, j9B4XdHUhDfTKVecyWQgyA...   1010   Steph   \n\n   review_count useful                 user_id        yelping_since  \n0           585   7217  qVc8ODYU5SZjKXVBgXdI7w  2007-01-25 16:47:26  \n1          4333  43091  j14WgRoU_-2ZE1aw1dXrJg  2009-01-25 04:35:42  \n2           665   2086  2WnXYQFK0hXEoTxPtV2zvg  2008-07-25 10:41:00  \n\n[3 rows x 22 columns]"
          },
          "execution_count": 24,
          "metadata": {},
          "output_type": "execute_result"
        }
      ],
      "source": [
        "df_user.limit(3).toPandas()"
      ]
    },
    {
      "cell_type": "markdown",
      "id": "bd7d6207-527e-47d2-88f4-d367e01d46be",
      "metadata": {
        "id": "bd7d6207-527e-47d2-88f4-d367e01d46be"
      },
      "source": [
        "**Data Cleaning**"
      ]
    },
    {
      "cell_type": "code",
      "execution_count": null,
      "id": "964fe418-4f80-4d7f-ab4e-4cedad0eb90f",
      "metadata": {
        "id": "964fe418-4f80-4d7f-ab4e-4cedad0eb90f",
        "outputId": "7c3117b8-e8ae-403d-c6bb-6a5c26d6b47a"
      },
      "outputs": [
        {
          "name": "stderr",
          "output_type": "stream",
          "text": "                                                                                \r"
        },
        {
          "data": {
            "text/html": "<div>\n<style scoped>\n    .dataframe tbody tr th:only-of-type {\n        vertical-align: middle;\n    }\n\n    .dataframe tbody tr th {\n        vertical-align: top;\n    }\n\n    .dataframe thead th {\n        text-align: right;\n    }\n</style>\n<table border=\"1\" class=\"dataframe\">\n  <thead>\n    <tr style=\"text-align: right;\">\n      <th></th>\n      <th>address</th>\n      <th>attributes</th>\n      <th>business_id</th>\n      <th>categories</th>\n      <th>city</th>\n      <th>hours</th>\n      <th>is_open</th>\n      <th>latitude</th>\n      <th>longitude</th>\n      <th>name</th>\n      <th>postal_code</th>\n      <th>review_count</th>\n      <th>stars</th>\n      <th>state</th>\n    </tr>\n  </thead>\n  <tbody>\n    <tr>\n      <th>0</th>\n      <td>0</td>\n      <td>13744</td>\n      <td>0</td>\n      <td>103</td>\n      <td>0</td>\n      <td>23223</td>\n      <td>0</td>\n      <td>0</td>\n      <td>0</td>\n      <td>0</td>\n      <td>0</td>\n      <td>0</td>\n      <td>0</td>\n      <td>0</td>\n    </tr>\n  </tbody>\n</table>\n</div>",
            "text/plain": "   address  attributes  business_id  categories  city  hours  is_open  \\\n0        0       13744            0         103     0  23223        0   \n\n   latitude  longitude  name  postal_code  review_count  stars  state  \n0         0          0     0            0             0      0      0  "
          },
          "execution_count": 25,
          "metadata": {},
          "output_type": "execute_result"
        }
      ],
      "source": [
        "null_check = df_business.select([col(c).isNull().alias(c) for c in df_business.columns])\n",
        "null_counts_business = null_check.agg(*[F.sum(F.col(c).cast(\"int\")).alias(c) for c in null_check.columns])\n",
        "null_counts_business.toPandas()"
      ]
    },
    {
      "cell_type": "markdown",
      "id": "821be2b9-e251-4f6d-afda-d337fe70de8b",
      "metadata": {
        "id": "821be2b9-e251-4f6d-afda-d337fe70de8b"
      },
      "source": [
        "The above analysis reveals the presence of null values in the `attributes`, `categories`, and `hours` columns. Given the nature of this data – predominantly array-based – conventional imputation methods like mean or median substitution are infeasible. Furthermore, the precision and specificity of this information, such as business `attributes` detailing parking availability, credit card acceptance, and `hours` dealing with business opening timings, necessitate absolute accuracy. Consequently, to uphold data integrity and relevance, it has been resolved to eliminate these rows with null values, rather than attempting to impute them. This approach ensures the retention of only the most reliable and pertinent data for subsequent analyses."
      ]
    },
    {
      "cell_type": "code",
      "execution_count": null,
      "id": "a324e86f-883f-4886-9752-507d53401266",
      "metadata": {
        "id": "a324e86f-883f-4886-9752-507d53401266",
        "outputId": "beec90ae-1992-4719-b982-98f979b4972c"
      },
      "outputs": [
        {
          "name": "stdout",
          "output_type": "stream",
          "text": "+--------------------+--------------------+--------------------+--------------------+------+--------------------+-------+---------+-----------+-------------+-----------+------------+-----+-----+\n|             address|          attributes|         business_id|          categories|  city|               hours|is_open| latitude|  longitude|         name|postal_code|review_count|stars|state|\n+--------------------+--------------------+--------------------+--------------------+------+--------------------+-------+---------+-----------+-------------+-----------+------------+-----+-----+\n|87 Grasso Plaza S...|{null, null, null...|mpf3x-BjTdTEA3yCZ...|Shipping Centers,...|Affton|{8:0-18:30, 0:0-0...|      1|38.551126| -90.335695|The UPS Store|      63123|          15|  3.0|   MO|\n|5255 E Broadway Blvd|{null, null, null...|tUFrWirKiKi_TAnsV...|Department Stores...|Tucson|{8:0-23:0, 8:0-22...|      0|32.223236|-110.880452|       Target|      85711|          22|  3.5|   AZ|\n+--------------------+--------------------+--------------------+--------------------+------+--------------------+-------+---------+-----------+-------------+-----------+------------+-----+-----+\nonly showing top 2 rows\n\n"
        }
      ],
      "source": [
        "df_business = df_business.where(col(\"categories\").isNotNull() & col(\"attributes\").isNotNull() & col(\"hours\").isNotNull())\n",
        "df_business.show(2)"
      ]
    },
    {
      "cell_type": "markdown",
      "id": "79e50716-b445-4fe8-a64b-9afafbeca7de",
      "metadata": {
        "id": "79e50716-b445-4fe8-a64b-9afafbeca7de"
      },
      "source": [
        "In the above query, the null values from the three columns have been removed."
      ]
    },
    {
      "cell_type": "code",
      "execution_count": null,
      "id": "6c1f7ff3-325d-43f8-82ae-7973f30ceb8e",
      "metadata": {
        "id": "6c1f7ff3-325d-43f8-82ae-7973f30ceb8e",
        "outputId": "abad0ceb-63e8-477c-e72c-ca89bd02eb19"
      },
      "outputs": [
        {
          "data": {
            "text/html": "<div>\n<style scoped>\n    .dataframe tbody tr th:only-of-type {\n        vertical-align: middle;\n    }\n\n    .dataframe tbody tr th {\n        vertical-align: top;\n    }\n\n    .dataframe thead th {\n        text-align: right;\n    }\n</style>\n<table border=\"1\" class=\"dataframe\">\n  <thead>\n    <tr style=\"text-align: right;\">\n      <th></th>\n      <th>address</th>\n      <th>attributes</th>\n      <th>business_id</th>\n      <th>categories</th>\n      <th>city</th>\n      <th>hours</th>\n      <th>is_open</th>\n      <th>latitude</th>\n      <th>longitude</th>\n      <th>name</th>\n      <th>postal_code</th>\n      <th>review_count</th>\n      <th>stars</th>\n      <th>state</th>\n    </tr>\n  </thead>\n  <tbody>\n    <tr>\n      <th>0</th>\n      <td>0</td>\n      <td>0</td>\n      <td>0</td>\n      <td>0</td>\n      <td>0</td>\n      <td>0</td>\n      <td>0</td>\n      <td>0</td>\n      <td>0</td>\n      <td>0</td>\n      <td>0</td>\n      <td>0</td>\n      <td>0</td>\n      <td>0</td>\n    </tr>\n  </tbody>\n</table>\n</div>",
            "text/plain": "   address  attributes  business_id  categories  city  hours  is_open  \\\n0        0           0            0           0     0      0        0   \n\n   latitude  longitude  name  postal_code  review_count  stars  state  \n0         0          0     0            0             0      0      0  "
          },
          "execution_count": 27,
          "metadata": {},
          "output_type": "execute_result"
        }
      ],
      "source": [
        "null_check = df_business.select([col(c).isNull().alias(c) for c in df_business.columns])\n",
        "null_counts_business = null_check.agg(*[F.sum(F.col(c).cast(\"int\")).alias(c) for c in null_check.columns])\n",
        "null_counts_business.toPandas()"
      ]
    },
    {
      "cell_type": "code",
      "execution_count": null,
      "id": "1601bb14-ff2a-4d19-8dc3-b639e70fa0ed",
      "metadata": {
        "id": "1601bb14-ff2a-4d19-8dc3-b639e70fa0ed",
        "outputId": "5896e426-37d7-4d1f-e813-71176fdc09b2"
      },
      "outputs": [
        {
          "name": "stderr",
          "output_type": "stream",
          "text": "                                                                                \r"
        },
        {
          "data": {
            "text/html": "<div>\n<style scoped>\n    .dataframe tbody tr th:only-of-type {\n        vertical-align: middle;\n    }\n\n    .dataframe tbody tr th {\n        vertical-align: top;\n    }\n\n    .dataframe thead th {\n        text-align: right;\n    }\n</style>\n<table border=\"1\" class=\"dataframe\">\n  <thead>\n    <tr style=\"text-align: right;\">\n      <th></th>\n      <th>business_id</th>\n      <th>cool</th>\n      <th>date</th>\n      <th>funny</th>\n      <th>review_id</th>\n      <th>stars</th>\n      <th>text</th>\n      <th>useful</th>\n      <th>user_id</th>\n    </tr>\n  </thead>\n  <tbody>\n    <tr>\n      <th>0</th>\n      <td>0</td>\n      <td>0</td>\n      <td>0</td>\n      <td>0</td>\n      <td>0</td>\n      <td>0</td>\n      <td>0</td>\n      <td>0</td>\n      <td>0</td>\n    </tr>\n  </tbody>\n</table>\n</div>",
            "text/plain": "   business_id  cool  date  funny  review_id  stars  text  useful  user_id\n0            0     0     0      0          0      0     0       0        0"
          },
          "execution_count": 166,
          "metadata": {},
          "output_type": "execute_result"
        }
      ],
      "source": [
        "null_check = df_review.select([col(c).isNull().alias(c) for c in df_review.columns])\n",
        "null_counts_review = null_check.agg(*[F.sum(F.col(c).cast(\"int\")).alias(c) for c in null_check.columns])\n",
        "null_counts_review.toPandas()"
      ]
    },
    {
      "cell_type": "code",
      "execution_count": null,
      "id": "410acb0b-b1be-4235-99cd-4755798a5fff",
      "metadata": {
        "id": "410acb0b-b1be-4235-99cd-4755798a5fff",
        "outputId": "e273ffd8-2816-409a-f74f-00786b557287"
      },
      "outputs": [
        {
          "name": "stderr",
          "output_type": "stream",
          "text": "                                                                                \r"
        },
        {
          "data": {
            "text/html": "<div>\n<style scoped>\n    .dataframe tbody tr th:only-of-type {\n        vertical-align: middle;\n    }\n\n    .dataframe tbody tr th {\n        vertical-align: top;\n    }\n\n    .dataframe thead th {\n        text-align: right;\n    }\n</style>\n<table border=\"1\" class=\"dataframe\">\n  <thead>\n    <tr style=\"text-align: right;\">\n      <th></th>\n      <th>average_stars</th>\n      <th>compliment_cool</th>\n      <th>compliment_cute</th>\n      <th>compliment_funny</th>\n      <th>compliment_hot</th>\n      <th>compliment_list</th>\n      <th>compliment_more</th>\n      <th>compliment_note</th>\n      <th>compliment_photos</th>\n      <th>compliment_plain</th>\n      <th>...</th>\n      <th>cool</th>\n      <th>elite</th>\n      <th>fans</th>\n      <th>friends</th>\n      <th>funny</th>\n      <th>name</th>\n      <th>review_count</th>\n      <th>useful</th>\n      <th>user_id</th>\n      <th>yelping_since</th>\n    </tr>\n  </thead>\n  <tbody>\n    <tr>\n      <th>0</th>\n      <td>0</td>\n      <td>0</td>\n      <td>0</td>\n      <td>0</td>\n      <td>0</td>\n      <td>0</td>\n      <td>0</td>\n      <td>0</td>\n      <td>0</td>\n      <td>0</td>\n      <td>...</td>\n      <td>0</td>\n      <td>0</td>\n      <td>0</td>\n      <td>0</td>\n      <td>0</td>\n      <td>0</td>\n      <td>0</td>\n      <td>0</td>\n      <td>0</td>\n      <td>0</td>\n    </tr>\n  </tbody>\n</table>\n<p>1 rows × 22 columns</p>\n</div>",
            "text/plain": "   average_stars  compliment_cool  compliment_cute  compliment_funny  \\\n0              0                0                0                 0   \n\n   compliment_hot  compliment_list  compliment_more  compliment_note  \\\n0               0                0                0                0   \n\n   compliment_photos  compliment_plain  ...  cool  elite  fans  friends  \\\n0                  0                 0  ...     0      0     0        0   \n\n   funny  name  review_count  useful  user_id  yelping_since  \n0      0     0             0       0        0              0  \n\n[1 rows x 22 columns]"
          },
          "execution_count": 167,
          "metadata": {},
          "output_type": "execute_result"
        }
      ],
      "source": [
        "null_check = df_user.select([col(c).isNull().alias(c) for c in df_user.columns])\n",
        "null_counts_user = null_check.agg(*[F.sum(F.col(c).cast(\"int\")).alias(c) for c in null_check.columns])\n",
        "null_counts_user.toPandas()"
      ]
    },
    {
      "cell_type": "code",
      "execution_count": null,
      "id": "3d3666dc-b388-47af-b100-011b8d9453ce",
      "metadata": {
        "id": "3d3666dc-b388-47af-b100-011b8d9453ce",
        "outputId": "327addff-a92b-4180-ac8a-ae995605c9ee"
      },
      "outputs": [
        {
          "data": {
            "text/html": "<div>\n<style scoped>\n    .dataframe tbody tr th:only-of-type {\n        vertical-align: middle;\n    }\n\n    .dataframe tbody tr th {\n        vertical-align: top;\n    }\n\n    .dataframe thead th {\n        text-align: right;\n    }\n</style>\n<table border=\"1\" class=\"dataframe\">\n  <thead>\n    <tr style=\"text-align: right;\">\n      <th></th>\n      <th>business_id</th>\n      <th>compliment_count</th>\n      <th>date</th>\n      <th>text</th>\n      <th>user_id</th>\n    </tr>\n  </thead>\n  <tbody>\n    <tr>\n      <th>0</th>\n      <td>0</td>\n      <td>0</td>\n      <td>0</td>\n      <td>0</td>\n      <td>0</td>\n    </tr>\n  </tbody>\n</table>\n</div>",
            "text/plain": "   business_id  compliment_count  date  text  user_id\n0            0                 0     0     0        0"
          },
          "execution_count": 168,
          "metadata": {},
          "output_type": "execute_result"
        }
      ],
      "source": [
        "null_check = df_tips.select([col(c).isNull().alias(c) for c in df_tips.columns])\n",
        "null_counts_tips = null_check.agg(*[F.sum(F.col(c).cast(\"int\")).alias(c) for c in null_check.columns])\n",
        "null_counts_tips.toPandas()"
      ]
    },
    {
      "cell_type": "code",
      "execution_count": null,
      "id": "d1b76dee-37e7-4383-a4e0-84315cefdb3b",
      "metadata": {
        "id": "d1b76dee-37e7-4383-a4e0-84315cefdb3b",
        "outputId": "b3433288-3bb9-4047-ae23-128b304e952d"
      },
      "outputs": [
        {
          "data": {
            "text/html": "<div>\n<style scoped>\n    .dataframe tbody tr th:only-of-type {\n        vertical-align: middle;\n    }\n\n    .dataframe tbody tr th {\n        vertical-align: top;\n    }\n\n    .dataframe thead th {\n        text-align: right;\n    }\n</style>\n<table border=\"1\" class=\"dataframe\">\n  <thead>\n    <tr style=\"text-align: right;\">\n      <th></th>\n      <th>business_id</th>\n      <th>date</th>\n    </tr>\n  </thead>\n  <tbody>\n    <tr>\n      <th>0</th>\n      <td>0</td>\n      <td>0</td>\n    </tr>\n  </tbody>\n</table>\n</div>",
            "text/plain": "   business_id  date\n0            0     0"
          },
          "execution_count": 169,
          "metadata": {},
          "output_type": "execute_result"
        }
      ],
      "source": [
        "null_check = df_checkin.select([col(c).isNull().alias(c) for c in df_checkin.columns])\n",
        "null_counts_checkin = null_check.agg(*[F.sum(F.col(c).cast(\"int\")).alias(c) for c in null_check.columns])\n",
        "null_counts_checkin.toPandas()"
      ]
    },
    {
      "cell_type": "markdown",
      "id": "44521dc2-6bd1-4033-b434-56c15e68d278",
      "metadata": {
        "id": "44521dc2-6bd1-4033-b434-56c15e68d278"
      },
      "source": [
        "From the above queries, it can be noticed that all the other tables do not contain null values."
      ]
    },
    {
      "cell_type": "markdown",
      "id": "053ec0e8-7d02-49d6-a16e-0d4f16b2940b",
      "metadata": {
        "id": "053ec0e8-7d02-49d6-a16e-0d4f16b2940b"
      },
      "source": [
        "### 5. Queries and Visualizations"
      ]
    },
    {
      "cell_type": "markdown",
      "id": "85e25664-80b1-455e-be25-9b30838bb064",
      "metadata": {
        "id": "85e25664-80b1-455e-be25-9b30838bb064"
      },
      "source": [
        "**Q1. How are the star reviews distributed in the data?**"
      ]
    },
    {
      "cell_type": "code",
      "execution_count": null,
      "id": "977661fd-35c8-4125-9e2c-c58d8d2f9236",
      "metadata": {
        "id": "977661fd-35c8-4125-9e2c-c58d8d2f9236",
        "outputId": "903f1662-4a9c-47c1-ba39-bff85d824520"
      },
      "outputs": [
        {
          "name": "stderr",
          "output_type": "stream",
          "text": "[Stage 53:===================================================>    (37 + 2) / 40]\r"
        },
        {
          "name": "stdout",
          "output_type": "stream",
          "text": "+-----+-------+\n|stars|  Count|\n+-----+-------+\n|  5.0|3231627|\n|  4.0|1452918|\n|  1.0|1069561|\n|  3.0| 691934|\n|  2.0| 544240|\n+-----+-------+\n\n"
        },
        {
          "name": "stderr",
          "output_type": "stream",
          "text": "                                                                                \r"
        }
      ],
      "source": [
        "stars = df_review.groupBy(\"stars\").agg(F.count('review_id').alias(\"Count\")).orderBy(F.desc(\"Count\"))\n",
        "stars.show()"
      ]
    },
    {
      "cell_type": "code",
      "execution_count": null,
      "id": "f2eec9e9-0ed2-4fde-9c62-b374d5ad5245",
      "metadata": {
        "id": "f2eec9e9-0ed2-4fde-9c62-b374d5ad5245",
        "outputId": "a60bc788-8723-4458-a61a-e14b4e02222a"
      },
      "outputs": [
        {
          "name": "stderr",
          "output_type": "stream",
          "text": "                                                                                \r"
        },
        {
          "data": {
            "text/html": "<div>\n<style scoped>\n    .dataframe tbody tr th:only-of-type {\n        vertical-align: middle;\n    }\n\n    .dataframe tbody tr th {\n        vertical-align: top;\n    }\n\n    .dataframe thead th {\n        text-align: right;\n    }\n</style>\n<table border=\"1\" class=\"dataframe\">\n  <thead>\n    <tr style=\"text-align: right;\">\n      <th></th>\n      <th>stars</th>\n      <th>Count</th>\n    </tr>\n  </thead>\n  <tbody>\n    <tr>\n      <th>0</th>\n      <td>5.0</td>\n      <td>3231627</td>\n    </tr>\n    <tr>\n      <th>1</th>\n      <td>4.0</td>\n      <td>1452918</td>\n    </tr>\n    <tr>\n      <th>2</th>\n      <td>1.0</td>\n      <td>1069561</td>\n    </tr>\n    <tr>\n      <th>3</th>\n      <td>3.0</td>\n      <td>691934</td>\n    </tr>\n    <tr>\n      <th>4</th>\n      <td>2.0</td>\n      <td>544240</td>\n    </tr>\n  </tbody>\n</table>\n</div>",
            "text/plain": "   stars    Count\n0    5.0  3231627\n1    4.0  1452918\n2    1.0  1069561\n3    3.0   691934\n4    2.0   544240"
          },
          "execution_count": 37,
          "metadata": {},
          "output_type": "execute_result"
        }
      ],
      "source": [
        "stars = stars.toPandas()\n",
        "stars"
      ]
    },
    {
      "cell_type": "markdown",
      "id": "2094568d-864e-4e00-aa92-0d79cfe2cf74",
      "metadata": {
        "id": "2094568d-864e-4e00-aa92-0d79cfe2cf74"
      },
      "source": [
        "This query results shows a distribution of review counts by star ratings. It shows that users tend to leave a 5-star review on the platform, which indicates that there is a tendency for users to be generally be satisfied with their experience.  Notably, the amount of 1-star reviews is more than 2 or 3 stars, which suggests that there is a high frequency of bad experiences among users. Ratings related to neural sentiment appear less than extreme ratings maybe because of people are less motivated to spend time reviewing experiences that didn't bring them extreme feelings.\n"
      ]
    },
    {
      "cell_type": "markdown",
      "id": "36d1b85f-5433-4c0b-a485-801eccfde6a0",
      "metadata": {
        "id": "36d1b85f-5433-4c0b-a485-801eccfde6a0"
      },
      "source": [
        "**Q2. What is the trend of review amount by years?**"
      ]
    },
    {
      "cell_type": "code",
      "execution_count": null,
      "id": "b035a12a-f066-473b-9158-90d90e67608d",
      "metadata": {
        "id": "b035a12a-f066-473b-9158-90d90e67608d",
        "outputId": "f5c341f8-8715-458a-cc52-7e979b4f872e"
      },
      "outputs": [
        {
          "name": "stdout",
          "output_type": "stream",
          "text": "+-------------------+\n|date               |\n+-------------------+\n|2018-07-07 22:09:11|\n|2012-01-03 15:28:18|\n|2014-02-05 20:30:30|\n|2015-01-04 00:01:03|\n|2017-01-14 20:54:15|\n+-------------------+\nonly showing top 5 rows\n\n"
        }
      ],
      "source": [
        "df_review.select(\"date\").show(5, truncate=False)"
      ]
    },
    {
      "cell_type": "code",
      "execution_count": null,
      "id": "dba00dbb-4e4d-469e-9cc4-0c5f77610884",
      "metadata": {
        "id": "dba00dbb-4e4d-469e-9cc4-0c5f77610884",
        "outputId": "27f15ec2-d98b-483e-edd8-ce71de131c60"
      },
      "outputs": [
        {
          "name": "stdout",
          "output_type": "stream",
          "text": "root\n |-- business_id: string (nullable = true)\n |-- cool: long (nullable = true)\n |-- date: timestamp (nullable = true)\n |-- funny: long (nullable = true)\n |-- review_id: string (nullable = true)\n |-- stars: double (nullable = true)\n |-- text: string (nullable = true)\n |-- useful: long (nullable = true)\n |-- user_id: string (nullable = true)\n\n"
        }
      ],
      "source": [
        "df_review = df_review.withColumn(\"date\", F.to_timestamp(\"date\", \"yyyy-MM-dd HH:mm:ss\"))\n",
        "df_review.printSchema()"
      ]
    },
    {
      "cell_type": "code",
      "execution_count": null,
      "id": "84181bf3-217e-40d7-9441-df86b0ef790a",
      "metadata": {
        "id": "84181bf3-217e-40d7-9441-df86b0ef790a",
        "outputId": "d03f5c03-b5b8-4e8a-8ca4-00892af226b6"
      },
      "outputs": [
        {
          "data": {
            "text/html": "<div>\n<style scoped>\n    .dataframe tbody tr th:only-of-type {\n        vertical-align: middle;\n    }\n\n    .dataframe tbody tr th {\n        vertical-align: top;\n    }\n\n    .dataframe thead th {\n        text-align: right;\n    }\n</style>\n<table border=\"1\" class=\"dataframe\">\n  <thead>\n    <tr style=\"text-align: right;\">\n      <th></th>\n      <th>business_id</th>\n      <th>cool</th>\n      <th>date</th>\n      <th>funny</th>\n      <th>review_id</th>\n      <th>stars</th>\n      <th>text</th>\n      <th>useful</th>\n      <th>user_id</th>\n    </tr>\n  </thead>\n  <tbody>\n    <tr>\n      <th>0</th>\n      <td>XQfwVwDr-v0ZS3_CbbE5Xw</td>\n      <td>0</td>\n      <td>2018-07-07 22:09:11</td>\n      <td>0</td>\n      <td>KU_O5udG6zpxOg-VcAEodg</td>\n      <td>3.0</td>\n      <td>If you decide to eat here, just be aware it is...</td>\n      <td>0</td>\n      <td>mh_-eMZ6K5RLWhZyISBhwA</td>\n    </tr>\n    <tr>\n      <th>1</th>\n      <td>7ATYjTIgM3jUlt4UM3IypQ</td>\n      <td>1</td>\n      <td>2012-01-03 15:28:18</td>\n      <td>0</td>\n      <td>BiTunyQ73aT9WBnpR9DZGw</td>\n      <td>5.0</td>\n      <td>I've taken a lot of spin classes over the year...</td>\n      <td>1</td>\n      <td>OyoGAe7OKpv6SyGZT5g77Q</td>\n    </tr>\n    <tr>\n      <th>2</th>\n      <td>YjUWPpI6HXG530lwP-fb2A</td>\n      <td>0</td>\n      <td>2014-02-05 20:30:30</td>\n      <td>0</td>\n      <td>saUsX_uimxRlCVr67Z4Jig</td>\n      <td>3.0</td>\n      <td>Family diner. Had the buffet. Eclectic assortm...</td>\n      <td>0</td>\n      <td>8g_iMtfSiwikVnbP2etR0A</td>\n    </tr>\n  </tbody>\n</table>\n</div>",
            "text/plain": "              business_id  cool                date  funny  \\\n0  XQfwVwDr-v0ZS3_CbbE5Xw     0 2018-07-07 22:09:11      0   \n1  7ATYjTIgM3jUlt4UM3IypQ     1 2012-01-03 15:28:18      0   \n2  YjUWPpI6HXG530lwP-fb2A     0 2014-02-05 20:30:30      0   \n\n                review_id  stars  \\\n0  KU_O5udG6zpxOg-VcAEodg    3.0   \n1  BiTunyQ73aT9WBnpR9DZGw    5.0   \n2  saUsX_uimxRlCVr67Z4Jig    3.0   \n\n                                                text  useful  \\\n0  If you decide to eat here, just be aware it is...       0   \n1  I've taken a lot of spin classes over the year...       1   \n2  Family diner. Had the buffet. Eclectic assortm...       0   \n\n                  user_id  \n0  mh_-eMZ6K5RLWhZyISBhwA  \n1  OyoGAe7OKpv6SyGZT5g77Q  \n2  8g_iMtfSiwikVnbP2etR0A  "
          },
          "execution_count": 40,
          "metadata": {},
          "output_type": "execute_result"
        }
      ],
      "source": [
        "df_review.limit(3).toPandas()"
      ]
    },
    {
      "cell_type": "code",
      "execution_count": null,
      "id": "1a168a51-392f-469e-8afb-7d4037ae34a1",
      "metadata": {
        "id": "1a168a51-392f-469e-8afb-7d4037ae34a1",
        "outputId": "28c798e9-8f91-4fbe-d639-de3e006b27df"
      },
      "outputs": [
        {
          "name": "stderr",
          "output_type": "stream",
          "text": "                                                                                \r"
        },
        {
          "data": {
            "text/html": "<div>\n<style scoped>\n    .dataframe tbody tr th:only-of-type {\n        vertical-align: middle;\n    }\n\n    .dataframe tbody tr th {\n        vertical-align: top;\n    }\n\n    .dataframe thead th {\n        text-align: right;\n    }\n</style>\n<table border=\"1\" class=\"dataframe\">\n  <thead>\n    <tr style=\"text-align: right;\">\n      <th></th>\n      <th>year</th>\n      <th>review_count</th>\n    </tr>\n  </thead>\n  <tbody>\n    <tr>\n      <th>0</th>\n      <td>2005</td>\n      <td>854</td>\n    </tr>\n    <tr>\n      <th>1</th>\n      <td>2006</td>\n      <td>3853</td>\n    </tr>\n    <tr>\n      <th>2</th>\n      <td>2007</td>\n      <td>15363</td>\n    </tr>\n    <tr>\n      <th>3</th>\n      <td>2008</td>\n      <td>48226</td>\n    </tr>\n    <tr>\n      <th>4</th>\n      <td>2009</td>\n      <td>74387</td>\n    </tr>\n    <tr>\n      <th>5</th>\n      <td>2010</td>\n      <td>138587</td>\n    </tr>\n    <tr>\n      <th>6</th>\n      <td>2011</td>\n      <td>230813</td>\n    </tr>\n    <tr>\n      <th>7</th>\n      <td>2012</td>\n      <td>286570</td>\n    </tr>\n    <tr>\n      <th>8</th>\n      <td>2013</td>\n      <td>383950</td>\n    </tr>\n    <tr>\n      <th>9</th>\n      <td>2014</td>\n      <td>522275</td>\n    </tr>\n    <tr>\n      <th>10</th>\n      <td>2015</td>\n      <td>688415</td>\n    </tr>\n    <tr>\n      <th>11</th>\n      <td>2016</td>\n      <td>758882</td>\n    </tr>\n    <tr>\n      <th>12</th>\n      <td>2017</td>\n      <td>820048</td>\n    </tr>\n    <tr>\n      <th>13</th>\n      <td>2018</td>\n      <td>906362</td>\n    </tr>\n    <tr>\n      <th>14</th>\n      <td>2019</td>\n      <td>907284</td>\n    </tr>\n    <tr>\n      <th>15</th>\n      <td>2020</td>\n      <td>554557</td>\n    </tr>\n    <tr>\n      <th>16</th>\n      <td>2021</td>\n      <td>618189</td>\n    </tr>\n    <tr>\n      <th>17</th>\n      <td>2022</td>\n      <td>31665</td>\n    </tr>\n  </tbody>\n</table>\n</div>",
            "text/plain": "    year  review_count\n0   2005           854\n1   2006          3853\n2   2007         15363\n3   2008         48226\n4   2009         74387\n5   2010        138587\n6   2011        230813\n7   2012        286570\n8   2013        383950\n9   2014        522275\n10  2015        688415\n11  2016        758882\n12  2017        820048\n13  2018        906362\n14  2019        907284\n15  2020        554557\n16  2021        618189\n17  2022         31665"
          },
          "execution_count": 41,
          "metadata": {},
          "output_type": "execute_result"
        }
      ],
      "source": [
        "reviews_each_year = df_review.groupBy(F.year(\"date\").alias(\"year\")).agg(F.count(\"review_id\").alias(\"review_count\")).orderBy(\"year\")\n",
        "review_for_each_year = reviews_each_year.toPandas()\n",
        "review_for_each_year"
      ]
    },
    {
      "cell_type": "code",
      "execution_count": null,
      "id": "6626e736-8c70-4859-b8d4-14b519fd8676",
      "metadata": {
        "id": "6626e736-8c70-4859-b8d4-14b519fd8676",
        "outputId": "75405019-2827-4e93-c7d1-21042c8b2294"
      },
      "outputs": [
        {
          "name": "stderr",
          "output_type": "stream",
          "text": "[Stage 74:=====================================================>  (38 + 2) / 40]\r"
        },
        {
          "name": "stdout",
          "output_type": "stream",
          "text": "+-------------------+\n|          max(date)|\n+-------------------+\n|2022-01-19 19:48:45|\n+-------------------+\n\n"
        },
        {
          "name": "stderr",
          "output_type": "stream",
          "text": "                                                                                \r"
        }
      ],
      "source": [
        "df_review.agg(max('date')).show()"
      ]
    },
    {
      "cell_type": "markdown",
      "id": "17d8e246-8ce6-4746-9ef9-6e2bb6a47752",
      "metadata": {
        "id": "17d8e246-8ce6-4746-9ef9-6e2bb6a47752"
      },
      "source": [
        "The reduced quantity of reviews observed in 2022 prompted an examination of the date corresponding to the latest review, which was determined to be January 19, 2022. Given this early cut-off in data for the year, including 2022 in the annual review count analysis could potentially mislead observers by presenting an anomalously low review count. Consequently, it was deemed better to exclude the 2022 data from this particular yearly aggregation to ensure a more accurate and representative analysis."
      ]
    },
    {
      "cell_type": "markdown",
      "id": "07171874-b1ea-499e-ab1b-d315733ecfb3",
      "metadata": {
        "id": "07171874-b1ea-499e-ab1b-d315733ecfb3"
      },
      "source": [
        "**Yearly Review count from 2005 - 2021**"
      ]
    },
    {
      "cell_type": "code",
      "execution_count": null,
      "id": "36668461-f4cc-41eb-8b4f-f98e1b4ffd89",
      "metadata": {
        "id": "36668461-f4cc-41eb-8b4f-f98e1b4ffd89",
        "outputId": "36611a2b-88a3-4b7d-d18c-f28c6cb61fa4"
      },
      "outputs": [
        {
          "data": {
            "image/png": "[encoded data removed]",
            "text/plain": "<Figure size 1000x600 with 1 Axes>"
          },
          "metadata": {},
          "output_type": "display_data"
        }
      ],
      "source": [
        "review_less_than_2022 = review_for_each_year[review_for_each_year['year'] < 2022]\n",
        "plt.figure(figsize=(10, 6))\n",
        "plt.plot(review_less_than_2022['year'], review_less_than_2022['review_count'], marker='o')\n",
        "plt.title('Yearly Review Count')\n",
        "plt.xlabel('Year')\n",
        "plt.ylabel('Review Count')\n",
        "plt.xticks(review_less_than_2022['year'])\n",
        "plt.show()"
      ]
    },
    {
      "cell_type": "markdown",
      "id": "8f6bc8bc-566b-4c57-8c8a-f98a2005bf3e",
      "metadata": {
        "id": "8f6bc8bc-566b-4c57-8c8a-f98a2005bf3e"
      },
      "source": [
        "According to this graph, we can see a significant growth from 2005 to 2015. This suggests that the Yelp platform has a growing engagement, which means the business of Yelp gained success during this period. From 2015 to 2019, the review count remained stable at a high level, which indicates that the market and the user amount are stable. From 2020, the review amount has a sharp decline, which may be because of COVID-19. During this period, people stayed at home and businesses had to close, thus the reviews amount decreased sharply."
      ]
    },
    {
      "cell_type": "markdown",
      "id": "03a4579f-a067-4ece-8931-36b3ed3e01d3",
      "metadata": {
        "id": "03a4579f-a067-4ece-8931-36b3ed3e01d3"
      },
      "source": [
        "**Q3. What regions have more opportunities for businesses? Does more business mean higher reviews for states?**"
      ]
    },
    {
      "cell_type": "code",
      "execution_count": null,
      "id": "f48d2299-d856-4562-a478-96e9ba70ecbf",
      "metadata": {
        "id": "f48d2299-d856-4562-a478-96e9ba70ecbf"
      },
      "outputs": [],
      "source": [
        "df_business.createOrReplaceTempView(\"business\")\n",
        "df_review.createOrReplaceTempView(\"review\")"
      ]
    },
    {
      "cell_type": "code",
      "execution_count": null,
      "id": "e9b7e271-7f6a-4a5b-a300-c0120d5cb82b",
      "metadata": {
        "id": "e9b7e271-7f6a-4a5b-a300-c0120d5cb82b",
        "outputId": "7c48ed6d-ded4-4cab-e183-571130f8d1aa"
      },
      "outputs": [
        {
          "name": "stderr",
          "output_type": "stream",
          "text": "                                                                                \r"
        },
        {
          "data": {
            "text/html": "<div>\n<style scoped>\n    .dataframe tbody tr th:only-of-type {\n        vertical-align: middle;\n    }\n\n    .dataframe tbody tr th {\n        vertical-align: top;\n    }\n\n    .dataframe thead th {\n        text-align: right;\n    }\n</style>\n<table border=\"1\" class=\"dataframe\">\n  <thead>\n    <tr style=\"text-align: right;\">\n      <th></th>\n      <th>address</th>\n      <th>attributes</th>\n      <th>business_id</th>\n      <th>categories</th>\n      <th>city</th>\n      <th>hours</th>\n      <th>is_open</th>\n      <th>latitude</th>\n      <th>longitude</th>\n      <th>name</th>\n      <th>postal_code</th>\n      <th>review_count</th>\n      <th>stars</th>\n      <th>state</th>\n      <th>category</th>\n    </tr>\n  </thead>\n  <tbody>\n    <tr>\n      <th>0</th>\n      <td>87 Grasso Plaza Shopping Center</td>\n      <td>(None, None, None, None, None, None, None, Non...</td>\n      <td>mpf3x-BjTdTEA3yCZrAYPw</td>\n      <td>Shipping Centers, Local Services, Notaries, Ma...</td>\n      <td>Affton</td>\n      <td>(8:0-18:30, 0:0-0:0, 8:0-14:0, None, 8:0-18:30...</td>\n      <td>1</td>\n      <td>38.551126</td>\n      <td>-90.335695</td>\n      <td>The UPS Store</td>\n      <td>63123</td>\n      <td>15</td>\n      <td>3.0</td>\n      <td>MO</td>\n      <td>Other</td>\n    </tr>\n    <tr>\n      <th>1</th>\n      <td>5255 E Broadway Blvd</td>\n      <td>(None, None, None, None, None, None, None, Tru...</td>\n      <td>tUFrWirKiKi_TAnsVWINQQ</td>\n      <td>Department Stores, Shopping, Fashion, Home &amp; G...</td>\n      <td>Tucson</td>\n      <td>(8:0-23:0, 8:0-22:0, 8:0-23:0, 8:0-22:0, 8:0-2...</td>\n      <td>0</td>\n      <td>32.223236</td>\n      <td>-110.880452</td>\n      <td>Target</td>\n      <td>85711</td>\n      <td>22</td>\n      <td>3.5</td>\n      <td>AZ</td>\n      <td>Shopping</td>\n    </tr>\n  </tbody>\n</table>\n</div>",
            "text/plain": "                           address  \\\n0  87 Grasso Plaza Shopping Center   \n1             5255 E Broadway Blvd   \n\n                                          attributes             business_id  \\\n0  (None, None, None, None, None, None, None, Non...  mpf3x-BjTdTEA3yCZrAYPw   \n1  (None, None, None, None, None, None, None, Tru...  tUFrWirKiKi_TAnsVWINQQ   \n\n                                          categories    city  \\\n0  Shipping Centers, Local Services, Notaries, Ma...  Affton   \n1  Department Stores, Shopping, Fashion, Home & G...  Tucson   \n\n                                               hours  is_open   latitude  \\\n0  (8:0-18:30, 0:0-0:0, 8:0-14:0, None, 8:0-18:30...        1  38.551126   \n1  (8:0-23:0, 8:0-22:0, 8:0-23:0, 8:0-22:0, 8:0-2...        0  32.223236   \n\n    longitude           name postal_code  review_count  stars state  category  \n0  -90.335695  The UPS Store       63123            15    3.0    MO     Other  \n1 -110.880452         Target       85711            22    3.5    AZ  Shopping  "
          },
          "execution_count": 45,
          "metadata": {},
          "output_type": "execute_result"
        }
      ],
      "source": [
        "busi = spark.sql('''\n",
        "SELECT *,\n",
        "       CASE\n",
        "           WHEN LOWER(categories) LIKE '%medicine%' THEN 'Medicine'\n",
        "           WHEN LOWER(categories) LIKE '%restaurant%' THEN 'Food'\n",
        "           WHEN LOWER(categories) LIKE '%pet%' THEN 'Pet'\n",
        "           WHEN LOWER(categories) LIKE '%school%' THEN 'Education'\n",
        "           WHEN LOWER(categories) LIKE '%shopping%' THEN 'Shopping'\n",
        "           WHEN LOWER(categories) LIKE '%bank%' THEN 'Bank'\n",
        "           ELSE 'Other'\n",
        "       END AS category\n",
        "FROM business\n",
        "''')\n",
        "busi = busi.toPandas()\n",
        "busi.head(2)"
      ]
    },
    {
      "cell_type": "code",
      "execution_count": null,
      "id": "0e856798-47cd-4e9b-aee0-32d18a3b3627",
      "metadata": {
        "id": "0e856798-47cd-4e9b-aee0-32d18a3b3627",
        "outputId": "4b9a7aca-4cf1-4606-e41a-aa107b4998a0"
      },
      "outputs": [
        {
          "name": "stderr",
          "output_type": "stream",
          "text": "24/04/02 00:28:40 WARN WindowExec: No Partition Defined for Window operation! Moving all data to a single partition, this can cause serious performance degradation.\n24/04/02 00:28:40 WARN WindowExec: No Partition Defined for Window operation! Moving all data to a single partition, this can cause serious performance degradation.\n24/04/02 00:28:40 WARN WindowExec: No Partition Defined for Window operation! Moving all data to a single partition, this can cause serious performance degradation.\n24/04/02 00:28:40 WARN WindowExec: No Partition Defined for Window operation! Moving all data to a single partition, this can cause serious performance degradation.\n24/04/02 00:28:41 WARN WindowExec: No Partition Defined for Window operation! Moving all data to a single partition, this can cause serious performance degradation.\n24/04/02 00:28:41 WARN WindowExec: No Partition Defined for Window operation! Moving all data to a single partition, this can cause serious performance degradation.\n24/04/02 00:28:41 WARN WindowExec: No Partition Defined for Window operation! Moving all data to a single partition, this can cause serious performance degradation.\n24/04/02 00:28:41 WARN WindowExec: No Partition Defined for Window operation! Moving all data to a single partition, this can cause serious performance degradation.\n24/04/02 00:28:42 WARN WindowExec: No Partition Defined for Window operation! Moving all data to a single partition, this can cause serious performance degradation.\n24/04/02 00:28:42 WARN WindowExec: No Partition Defined for Window operation! Moving all data to a single partition, this can cause serious performance degradation.\n24/04/02 00:28:42 WARN WindowExec: No Partition Defined for Window operation! Moving all data to a single partition, this can cause serious performance degradation.\n24/04/02 00:28:42 WARN WindowExec: No Partition Defined for Window operation! Moving all data to a single partition, this can cause serious performance degradation.\n24/04/02 00:28:42 WARN WindowExec: No Partition Defined for Window operation! Moving all data to a single partition, this can cause serious performance degradation.\n24/04/02 00:28:42 WARN WindowExec: No Partition Defined for Window operation! Moving all data to a single partition, this can cause serious performance degradation.\n24/04/02 00:28:42 WARN WindowExec: No Partition Defined for Window operation! Moving all data to a single partition, this can cause serious performance degradation.\n24/04/02 00:28:42 WARN WindowExec: No Partition Defined for Window operation! Moving all data to a single partition, this can cause serious performance degradation.\n                                                                                \r"
        },
        {
          "data": {
            "text/html": "<div>\n<style scoped>\n    .dataframe tbody tr th:only-of-type {\n        vertical-align: middle;\n    }\n\n    .dataframe tbody tr th {\n        vertical-align: top;\n    }\n\n    .dataframe thead th {\n        text-align: right;\n    }\n</style>\n<table border=\"1\" class=\"dataframe\">\n  <thead>\n    <tr style=\"text-align: right;\">\n      <th></th>\n      <th>state</th>\n      <th>num_businesses</th>\n      <th>rank_by_businesses</th>\n      <th>avg_stars</th>\n      <th>rank_by_stars</th>\n    </tr>\n  </thead>\n  <tbody>\n    <tr>\n      <th>0</th>\n      <td>PA</td>\n      <td>26317</td>\n      <td>1</td>\n      <td>3.738740</td>\n      <td>9</td>\n    </tr>\n    <tr>\n      <th>1</th>\n      <td>FL</td>\n      <td>20974</td>\n      <td>2</td>\n      <td>3.801024</td>\n      <td>6</td>\n    </tr>\n    <tr>\n      <th>2</th>\n      <td>TN</td>\n      <td>9619</td>\n      <td>3</td>\n      <td>3.801366</td>\n      <td>5</td>\n    </tr>\n    <tr>\n      <th>3</th>\n      <td>IN</td>\n      <td>8856</td>\n      <td>4</td>\n      <td>3.825141</td>\n      <td>3</td>\n    </tr>\n    <tr>\n      <th>4</th>\n      <td>MO</td>\n      <td>8848</td>\n      <td>5</td>\n      <td>3.767181</td>\n      <td>7</td>\n    </tr>\n    <tr>\n      <th>5</th>\n      <td>AZ</td>\n      <td>7793</td>\n      <td>6</td>\n      <td>3.731065</td>\n      <td>10</td>\n    </tr>\n    <tr>\n      <th>6</th>\n      <td>LA</td>\n      <td>7644</td>\n      <td>7</td>\n      <td>3.902366</td>\n      <td>2</td>\n    </tr>\n    <tr>\n      <th>7</th>\n      <td>NJ</td>\n      <td>6620</td>\n      <td>8</td>\n      <td>3.603976</td>\n      <td>12</td>\n    </tr>\n    <tr>\n      <th>8</th>\n      <td>NV</td>\n      <td>5844</td>\n      <td>9</td>\n      <td>3.759611</td>\n      <td>8</td>\n    </tr>\n    <tr>\n      <th>9</th>\n      <td>AB</td>\n      <td>4111</td>\n      <td>10</td>\n      <td>3.663440</td>\n      <td>11</td>\n    </tr>\n    <tr>\n      <th>10</th>\n      <td>CA</td>\n      <td>3951</td>\n      <td>11</td>\n      <td>3.981464</td>\n      <td>1</td>\n    </tr>\n    <tr>\n      <th>11</th>\n      <td>ID</td>\n      <td>3600</td>\n      <td>12</td>\n      <td>3.808350</td>\n      <td>4</td>\n    </tr>\n    <tr>\n      <th>12</th>\n      <td>DE</td>\n      <td>1761</td>\n      <td>13</td>\n      <td>3.555855</td>\n      <td>13</td>\n    </tr>\n    <tr>\n      <th>13</th>\n      <td>IL</td>\n      <td>1669</td>\n      <td>14</td>\n      <td>3.543665</td>\n      <td>14</td>\n    </tr>\n  </tbody>\n</table>\n</div>",
            "text/plain": "   state  num_businesses  rank_by_businesses  avg_stars  rank_by_stars\n0     PA           26317                   1   3.738740              9\n1     FL           20974                   2   3.801024              6\n2     TN            9619                   3   3.801366              5\n3     IN            8856                   4   3.825141              3\n4     MO            8848                   5   3.767181              7\n5     AZ            7793                   6   3.731065             10\n6     LA            7644                   7   3.902366              2\n7     NJ            6620                   8   3.603976             12\n8     NV            5844                   9   3.759611              8\n9     AB            4111                  10   3.663440             11\n10    CA            3951                  11   3.981464              1\n11    ID            3600                  12   3.808350              4\n12    DE            1761                  13   3.555855             13\n13    IL            1669                  14   3.543665             14"
          },
          "execution_count": 46,
          "metadata": {},
          "output_type": "execute_result"
        }
      ],
      "source": [
        "results = spark.sql('''\n",
        "SELECT state,\n",
        "       COUNT(DISTINCT business_id) as num_businesses,\n",
        "       RANK() OVER (ORDER BY COUNT(DISTINCT business_id) DESC) as rank_by_businesses,\n",
        "       SUM(stars * review_count) / SUM(review_count) as avg_stars,\n",
        "       RANK() OVER (ORDER BY SUM(stars * review_count) / SUM(review_count) DESC) as rank_by_stars\n",
        "FROM business\n",
        "GROUP BY state\n",
        "HAVING SUM(review_count) >100\n",
        "ORDER BY num_businesses DESC\n",
        "''')\n",
        "results = results.toPandas()\n",
        "results"
      ]
    },
    {
      "cell_type": "markdown",
      "id": "307dc4bd-0811-4bd3-9e38-65a19fd5c19b",
      "metadata": {
        "id": "307dc4bd-0811-4bd3-9e38-65a19fd5c19b"
      },
      "source": [
        "**Scatter Plot of Ranks by businesses and stars**"
      ]
    },
    {
      "cell_type": "code",
      "execution_count": null,
      "id": "9b62ac18-6546-4e25-ace1-19a0a089b12e",
      "metadata": {
        "id": "9b62ac18-6546-4e25-ace1-19a0a089b12e",
        "outputId": "b6164102-bbfa-4924-cb75-8af1736264b7"
      },
      "outputs": [
        {
          "data": {
            "image/png": "[encoded data removed]",
            "text/plain": "<Figure size 1000x600 with 1 Axes>"
          },
          "metadata": {},
          "output_type": "display_data"
        }
      ],
      "source": [
        "plt.figure(figsize=(10, 6))\n",
        "plt.scatter(results['rank_by_businesses'], results['rank_by_stars'])\n",
        "plt.title('Scatter Plot of Rank by Businesses and Rank by Stars')\n",
        "plt.xlabel('Rank by Businesses')\n",
        "plt.ylabel('Rank by Stars')\n",
        "plt.show()"
      ]
    },
    {
      "cell_type": "markdown",
      "id": "9963c20e-eafa-4b06-b782-4a3fd67987db",
      "metadata": {
        "id": "9963c20e-eafa-4b06-b782-4a3fd67987db"
      },
      "source": [
        "The above graph ranks each region by the number of businesses and the avg stars businesses recieve. It can be observed in the scatter plot thats the rank of states in both these indices is positively correlated. Average Star Ratings and ranks derived from it tell us how consumers find businesses in their states. The number of businesses and the ranks derived from this give us insights on how good an environment is for businesses to prosper. It can be seen that if the state can build a condusive environment for businesses, the consumer satisfaction also increases."
      ]
    },
    {
      "cell_type": "markdown",
      "id": "4a68972b-401a-4825-8831-ea677e680179",
      "metadata": {
        "id": "4a68972b-401a-4825-8831-ea677e680179"
      },
      "source": [
        "**Q4. What are the top 10 states relative to the number of businesses?**"
      ]
    },
    {
      "cell_type": "code",
      "execution_count": null,
      "id": "9149f58d-b12c-408a-98cc-f768d36f27b1",
      "metadata": {
        "id": "9149f58d-b12c-408a-98cc-f768d36f27b1",
        "outputId": "e0c2e109-ac90-44c1-f027-0745cd801a83"
      },
      "outputs": [
        {
          "data": {
            "image/png": "[encoded data removed]",
            "text/plain": "<Figure size 1000x600 with 1 Axes>"
          },
          "metadata": {},
          "output_type": "display_data"
        }
      ],
      "source": [
        "results = results.head(10)\n",
        "plt.figure(figsize=(10, 6))\n",
        "plt.barh(results['state'], results['num_businesses'], color='skyblue')\n",
        "plt.xlabel('Number of Businesses')\n",
        "plt.ylabel('State')\n",
        "plt.title('Top 10 States by Number of Businesses')\n",
        "plt.gca().invert_yaxis()  # Inverting y-axis to display the state with the most businesses at the top\n",
        "plt.show()"
      ]
    },
    {
      "cell_type": "markdown",
      "id": "0a74a816-3fac-4c27-bea9-0190036dee28",
      "metadata": {
        "id": "0a74a816-3fac-4c27-bea9-0190036dee28"
      },
      "source": [
        "The above Graph looks at the top 10 states by their number of businesses. This graph can be interpreted in 2 very different ways. If we believe the dataset is complete or in proportion, then we can see that a lot of states can learn from the Pennsylvania and Florida. States can incentivise more businesses to start. on the other hand if Yelp believes this dataset is not complete(seems like the more likely case), it can now target states to increase its usage in those states. This would benefit Yelp increase market market share."
      ]
    },
    {
      "cell_type": "markdown",
      "id": "39968ac3-eef9-4f04-a7d5-732fd1b9c23a",
      "metadata": {
        "id": "39968ac3-eef9-4f04-a7d5-732fd1b9c23a"
      },
      "source": [
        "**Q5. What are the top ten states that customers frequently use Yelp to review the restaurants?**"
      ]
    },
    {
      "cell_type": "code",
      "execution_count": null,
      "id": "cf926ed2-2868-47a5-8feb-0f12288264a7",
      "metadata": {
        "id": "cf926ed2-2868-47a5-8feb-0f12288264a7",
        "outputId": "f5ff46bf-38b2-423e-9a34-464edb25c606"
      },
      "outputs": [
        {
          "name": "stderr",
          "output_type": "stream",
          "text": "                                                                                \r"
        }
      ],
      "source": [
        "top_ten_state_reviewcount = (\n",
        "    df_review\n",
        "    .join(df_business, df_review.business_id == df_business.business_id, 'inner')\n",
        "    .groupBy(\"state\")\n",
        "    .count()\n",
        "    .toPandas()\n",
        "    .sort_values(by='count', ascending=False)\n",
        "    .head(10)\n",
        ")"
      ]
    },
    {
      "cell_type": "code",
      "execution_count": null,
      "id": "f4cd40d2-ff6b-49b2-8a9c-90f49de3e4c5",
      "metadata": {
        "id": "f4cd40d2-ff6b-49b2-8a9c-90f49de3e4c5",
        "outputId": "8e76525b-8068-454f-cfa1-7d9c02aef271"
      },
      "outputs": [
        {
          "data": {
            "image/png": "[encoded data removed]",
            "text/plain": "<Figure size 1200x800 with 1 Axes>"
          },
          "metadata": {},
          "output_type": "display_data"
        }
      ],
      "source": [
        "plt.figure(figsize=(12, 8))\n",
        "plt.bar(top_ten_state_reviewcount['state'], top_ten_state_reviewcount['count'], color='skyblue')\n",
        "\n",
        "for i, count in enumerate(top_ten_state_reviewcount['count']):\n",
        "    plt.text(i, count + 0.5, str(count), ha='center', va='bottom')\n",
        "\n",
        "plt.xlabel('State', fontsize=12)\n",
        "plt.ylabel('Review Count', fontsize=12)\n",
        "plt.title('Top Ten States by Review Count', fontsize=14)\n",
        "plt.xticks(rotation=45, fontsize=10)\n",
        "plt.yticks(fontsize=10)\n",
        "\n",
        "plt.grid(axis='y', linestyle='--', alpha=0.7)\n",
        "\n",
        "plt.tight_layout()\n",
        "plt.show()"
      ]
    },
    {
      "cell_type": "markdown",
      "id": "c4e26c76-242a-485a-91d8-3ab861434a53",
      "metadata": {
        "id": "c4e26c76-242a-485a-91d8-3ab861434a53"
      },
      "source": [
        "This graph elucidates the top ten states in terms of review volume on Yelp, a platform instrumental for customers seeking insights into restaurants before visiting. The data indicates that both Pennsylvania (PA) and Florida (FL) have amassed over one million reviews. Notably, while Louisiana (LA) ranks seventh in the number of businesses, it stands as the third-highest in review count, suggesting a comparatively higher level of customer engagement than Tennessee (TN). This analysis offers valuable perspective on consumer interaction and feedback trends across various states."
      ]
    },
    {
      "cell_type": "markdown",
      "id": "05dd5104-4878-4505-8601-509ecae400d7",
      "metadata": {
        "id": "05dd5104-4878-4505-8601-509ecae400d7"
      },
      "source": [
        "**Q6. What are the top ten cities that customers frequently use Yelp to review the restaurants?**"
      ]
    },
    {
      "cell_type": "code",
      "execution_count": null,
      "id": "2c6efc32-9cdd-42de-bce3-55a2892e5cfc",
      "metadata": {
        "id": "2c6efc32-9cdd-42de-bce3-55a2892e5cfc",
        "outputId": "eb206948-43fd-4c88-e419-1ea337b3571e"
      },
      "outputs": [
        {
          "name": "stderr",
          "output_type": "stream",
          "text": "                                                                                \r"
        },
        {
          "data": {
            "text/html": "<div>\n<style scoped>\n    .dataframe tbody tr th:only-of-type {\n        vertical-align: middle;\n    }\n\n    .dataframe tbody tr th {\n        vertical-align: top;\n    }\n\n    .dataframe thead th {\n        text-align: right;\n    }\n</style>\n<table border=\"1\" class=\"dataframe\">\n  <thead>\n    <tr style=\"text-align: right;\">\n      <th></th>\n      <th>city</th>\n      <th>count</th>\n    </tr>\n  </thead>\n  <tbody>\n    <tr>\n      <th>75</th>\n      <td>Philadelphia</td>\n      <td>895211</td>\n    </tr>\n    <tr>\n      <th>295</th>\n      <td>New Orleans</td>\n      <td>600715</td>\n    </tr>\n    <tr>\n      <th>123</th>\n      <td>Nashville</td>\n      <td>423305</td>\n    </tr>\n    <tr>\n      <th>240</th>\n      <td>Tampa</td>\n      <td>423268</td>\n    </tr>\n    <tr>\n      <th>408</th>\n      <td>Tucson</td>\n      <td>374702</td>\n    </tr>\n    <tr>\n      <th>107</th>\n      <td>Indianapolis</td>\n      <td>334126</td>\n    </tr>\n    <tr>\n      <th>293</th>\n      <td>Reno</td>\n      <td>324065</td>\n    </tr>\n    <tr>\n      <th>428</th>\n      <td>Santa Barbara</td>\n      <td>250180</td>\n    </tr>\n    <tr>\n      <th>391</th>\n      <td>Saint Louis</td>\n      <td>235602</td>\n    </tr>\n    <tr>\n      <th>149</th>\n      <td>Boise</td>\n      <td>96401</td>\n    </tr>\n  </tbody>\n</table>\n</div>",
            "text/plain": "              city   count\n75    Philadelphia  895211\n295    New Orleans  600715\n123      Nashville  423305\n240          Tampa  423268\n408         Tucson  374702\n107   Indianapolis  334126\n293           Reno  324065\n428  Santa Barbara  250180\n391    Saint Louis  235602\n149          Boise   96401"
          },
          "execution_count": 51,
          "metadata": {},
          "output_type": "execute_result"
        }
      ],
      "source": [
        "df_review.join(df_business, df_review.business_id == df_business.business_id, 'inner') \\\n",
        "    .groupBy(\"city\") \\\n",
        "    .count() \\\n",
        "    .toPandas() \\\n",
        "    .sort_values(by='count', ascending=False) \\\n",
        "    .head(10)"
      ]
    },
    {
      "cell_type": "markdown",
      "id": "ec2c1a11-7031-447a-bddf-558726b9b170",
      "metadata": {
        "id": "ec2c1a11-7031-447a-bddf-558726b9b170"
      },
      "source": [
        "In addition to the State level, we want to look at the city level to see which cities have high review counts for the restaurants. Phildelphia city still, has the highest review count compare to other cities."
      ]
    },
    {
      "cell_type": "markdown",
      "id": "f191f99d-1b37-466a-acb9-202476753d53",
      "metadata": {
        "id": "f191f99d-1b37-466a-acb9-202476753d53"
      },
      "source": [
        "**Q7. What are the top ten cities that customers frequently use Yelp to check-in?**"
      ]
    },
    {
      "cell_type": "code",
      "execution_count": null,
      "id": "a37cd995-bce4-4904-b2ba-e74f9a451f72",
      "metadata": {
        "id": "a37cd995-bce4-4904-b2ba-e74f9a451f72",
        "outputId": "4303fcce-7178-4e9a-f2aa-bdfdaf6c8e2c"
      },
      "outputs": [
        {
          "name": "stderr",
          "output_type": "stream",
          "text": "                                                                                \r"
        },
        {
          "data": {
            "text/html": "<div>\n<style scoped>\n    .dataframe tbody tr th:only-of-type {\n        vertical-align: middle;\n    }\n\n    .dataframe tbody tr th {\n        vertical-align: top;\n    }\n\n    .dataframe thead th {\n        text-align: right;\n    }\n</style>\n<table border=\"1\" class=\"dataframe\">\n  <thead>\n    <tr style=\"text-align: right;\">\n      <th></th>\n      <th>city</th>\n      <th>count</th>\n    </tr>\n  </thead>\n  <tbody>\n    <tr>\n      <th>97</th>\n      <td>Philadelphia</td>\n      <td>10071</td>\n    </tr>\n    <tr>\n      <th>324</th>\n      <td>Tampa</td>\n      <td>6565</td>\n    </tr>\n    <tr>\n      <th>571</th>\n      <td>Tucson</td>\n      <td>6332</td>\n    </tr>\n    <tr>\n      <th>141</th>\n      <td>Indianapolis</td>\n      <td>5461</td>\n    </tr>\n    <tr>\n      <th>160</th>\n      <td>Nashville</td>\n      <td>4979</td>\n    </tr>\n    <tr>\n      <th>406</th>\n      <td>New Orleans</td>\n      <td>4530</td>\n    </tr>\n    <tr>\n      <th>403</th>\n      <td>Reno</td>\n      <td>3931</td>\n    </tr>\n    <tr>\n      <th>398</th>\n      <td>Edmonton</td>\n      <td>3507</td>\n    </tr>\n    <tr>\n      <th>546</th>\n      <td>Saint Louis</td>\n      <td>3428</td>\n    </tr>\n    <tr>\n      <th>601</th>\n      <td>Santa Barbara</td>\n      <td>2350</td>\n    </tr>\n  </tbody>\n</table>\n</div>",
            "text/plain": "              city  count\n97    Philadelphia  10071\n324          Tampa   6565\n571         Tucson   6332\n141   Indianapolis   5461\n160      Nashville   4979\n406    New Orleans   4530\n403           Reno   3931\n398       Edmonton   3507\n546    Saint Louis   3428\n601  Santa Barbara   2350"
          },
          "execution_count": 52,
          "metadata": {},
          "output_type": "execute_result"
        }
      ],
      "source": [
        "df_checkin.join(df_business, df_checkin.business_id == df_business.business_id, 'inner') \\\n",
        "    .groupBy(\"city\") \\\n",
        "    .count() \\\n",
        "    .toPandas() \\\n",
        "    .sort_values(by='count', ascending=False) \\\n",
        "    .head(10)"
      ]
    },
    {
      "cell_type": "markdown",
      "id": "b07ad6ce-5858-4b33-8426-f36ee2c292df",
      "metadata": {
        "id": "b07ad6ce-5858-4b33-8426-f36ee2c292df"
      },
      "source": [
        "As Yelp is offering the check-in function for customers when planning to dine in a restaurant, we want to briefly have an idea how frequently customers use Yelp to reservae a spot. From the above query result, we are able to see that customers in the  Philadelphia city use this check-in function with over 10,000 counts."
      ]
    },
    {
      "cell_type": "markdown",
      "id": "18362696-b5cb-4f68-a0aa-89bedb826b80",
      "metadata": {
        "id": "18362696-b5cb-4f68-a0aa-89bedb826b80"
      },
      "source": [
        "**Q8. What are the top ten cities that customers frequently use Yelp to give compliments the restaurants?**"
      ]
    },
    {
      "cell_type": "code",
      "execution_count": null,
      "id": "2efe69a1-a3fe-4321-84ef-2b272a2bcd3f",
      "metadata": {
        "id": "2efe69a1-a3fe-4321-84ef-2b272a2bcd3f",
        "outputId": "add60db6-06ac-4da1-f885-ad90d8fbc0f2"
      },
      "outputs": [
        {
          "name": "stderr",
          "output_type": "stream",
          "text": "                                                                                \r"
        },
        {
          "data": {
            "text/html": "<div>\n<style scoped>\n    .dataframe tbody tr th:only-of-type {\n        vertical-align: middle;\n    }\n\n    .dataframe tbody tr th {\n        vertical-align: top;\n    }\n\n    .dataframe thead th {\n        text-align: right;\n    }\n</style>\n<table border=\"1\" class=\"dataframe\">\n  <thead>\n    <tr style=\"text-align: right;\">\n      <th></th>\n      <th>city</th>\n      <th>count(compliment_count)</th>\n    </tr>\n  </thead>\n  <tbody>\n    <tr>\n      <th>122</th>\n      <td>Philadelphia</td>\n      <td>109081</td>\n    </tr>\n    <tr>\n      <th>474</th>\n      <td>New Orleans</td>\n      <td>79013</td>\n    </tr>\n    <tr>\n      <th>380</th>\n      <td>Tampa</td>\n      <td>59334</td>\n    </tr>\n    <tr>\n      <th>670</th>\n      <td>Tucson</td>\n      <td>53242</td>\n    </tr>\n    <tr>\n      <th>177</th>\n      <td>Indianapolis</td>\n      <td>50547</td>\n    </tr>\n    <tr>\n      <th>194</th>\n      <td>Nashville</td>\n      <td>48492</td>\n    </tr>\n    <tr>\n      <th>641</th>\n      <td>Saint Louis</td>\n      <td>39644</td>\n    </tr>\n    <tr>\n      <th>467</th>\n      <td>Reno</td>\n      <td>39201</td>\n    </tr>\n    <tr>\n      <th>700</th>\n      <td>Santa Barbara</td>\n      <td>26464</td>\n    </tr>\n    <tr>\n      <th>460</th>\n      <td>Edmonton</td>\n      <td>12168</td>\n    </tr>\n  </tbody>\n</table>\n</div>",
            "text/plain": "              city  count(compliment_count)\n122   Philadelphia                   109081\n474    New Orleans                    79013\n380          Tampa                    59334\n670         Tucson                    53242\n177   Indianapolis                    50547\n194      Nashville                    48492\n641    Saint Louis                    39644\n467           Reno                    39201\n700  Santa Barbara                    26464\n460       Edmonton                    12168"
          },
          "execution_count": 53,
          "metadata": {},
          "output_type": "execute_result"
        }
      ],
      "source": [
        "df_tips.join(df_business, df_tips.business_id == df_business.business_id, 'inner') \\\n",
        "    .groupBy(\"city\") \\\n",
        "    .agg({'compliment_count': 'count'}) \\\n",
        "    .toPandas() \\\n",
        "    .sort_values(by='count(compliment_count)', ascending=False) \\\n",
        "    .head(10)"
      ]
    },
    {
      "cell_type": "markdown",
      "id": "6a29a6b1-ecc7-4324-a6d6-244291e51a94",
      "metadata": {
        "id": "6a29a6b1-ecc7-4324-a6d6-244291e51a94"
      },
      "source": [
        "Providing compliments meaning that customers had a great experience in the restaurants. Here we break it done by cities and order them by the compliment count to see which city overall provide customers a good experience. Both Philadelphia and New Orleans city ranked to be the top two in this dataset."
      ]
    },
    {
      "cell_type": "markdown",
      "id": "5b8ffaf6-90a3-4e95-830c-1ef1add7d331",
      "metadata": {
        "id": "5b8ffaf6-90a3-4e95-830c-1ef1add7d331"
      },
      "source": [
        "**Q9. Does the distribution of ratings vary among states?**\n",
        "\n",
        "This is an important question for current and future business owners. If distribtions vary among states, this could infer that it might be better to open in specific states. For example, if ratings skew lower and you're an established franchise with typically a high star rating, you may want to look in these states. Another insight could be that if the ratings skew on the high end, that state may have too many businesses that could cause a high barrier to entry and too much competition for new businesses."
      ]
    },
    {
      "cell_type": "markdown",
      "id": "3e2dfb05-d3b6-422f-9670-39a976f4d4ab",
      "metadata": {
        "id": "3e2dfb05-d3b6-422f-9670-39a976f4d4ab"
      },
      "source": [
        "First we need to join the business dataframe to the reviews, so that we can group reviews by the state of the business. Then we can filter down to only states with at least 50 reviews, as a handful only have a couple reviews (which is not a large enough sample to provide any insight)."
      ]
    },
    {
      "cell_type": "code",
      "execution_count": null,
      "id": "167f5b1f-2e0b-4405-870c-84b7efa64448",
      "metadata": {
        "id": "167f5b1f-2e0b-4405-870c-84b7efa64448"
      },
      "outputs": [],
      "source": [
        "biz_data = df_business.select('business_id', 'state')\n",
        "joinExpression = df_review['business_id'] == biz_data['business_id']\n",
        "biz_w_review = df_review.join(biz_data, joinExpression, 'left_outer')"
      ]
    },
    {
      "cell_type": "code",
      "execution_count": null,
      "id": "74255a7d-d6a3-442c-9180-3265e9d7f4b7",
      "metadata": {
        "id": "74255a7d-d6a3-442c-9180-3265e9d7f4b7",
        "outputId": "2e9147c7-8dfe-4eae-8421-44f83e6459b2"
      },
      "outputs": [
        {
          "name": "stderr",
          "output_type": "stream",
          "text": "[Stage 105:================================================>      (35 + 4) / 40]\r"
        },
        {
          "name": "stdout",
          "output_type": "stream",
          "text": "+-----+\n|state|\n+-----+\n|   PA|\n|   FL|\n|   LA|\n|   TN|\n| null|\n|   MO|\n|   IN|\n|   AZ|\n|   NV|\n|   CA|\n|   NJ|\n|   ID|\n|   AB|\n|   DE|\n|   IL|\n+-----+\n\n"
        },
        {
          "name": "stderr",
          "output_type": "stream",
          "text": "                                                                                \r"
        }
      ],
      "source": [
        "biz_w_review.groupBy(\"state\").count()\\\n",
        "            .filter(F.col(\"count\") > 50)\\\n",
        "            .orderBy('count', ascending=False)\\\n",
        "            .select(\"state\")\\\n",
        "            .show()"
      ]
    },
    {
      "cell_type": "code",
      "execution_count": null,
      "id": "d447ebfd-0c9d-47b8-998d-2a4e87fe09f1",
      "metadata": {
        "id": "d447ebfd-0c9d-47b8-998d-2a4e87fe09f1",
        "outputId": "5315f484-4806-48a8-a57d-a3eeff7ae4de"
      },
      "outputs": [
        {
          "name": "stderr",
          "output_type": "stream",
          "text": "                                                                                \r"
        }
      ],
      "source": [
        "states = biz_w_review.groupBy(\"state\")\\\n",
        "            .count()\\\n",
        "            .filter(F.col(\"count\") > 50)\\\n",
        "            .orderBy('count', ascending=False)\\\n",
        "            .select(\"state\").collect()\n",
        "\n",
        "states_list = [states[i][0] for i in range(0, len(states))]"
      ]
    },
    {
      "cell_type": "code",
      "execution_count": null,
      "id": "aee41e5c-fe74-4938-8a5d-be3fe71e8452",
      "metadata": {
        "id": "aee41e5c-fe74-4938-8a5d-be3fe71e8452",
        "outputId": "7251723b-5963-462a-9ccc-a3a10335afbd"
      },
      "outputs": [
        {
          "name": "stdout",
          "output_type": "stream",
          "text": "+-----+-----+\n|stars|state|\n+-----+-----+\n|  3.0|   PA|\n|  5.0|   PA|\n|  5.0|   PA|\n|  4.0|   LA|\n|  1.0|   PA|\n|  5.0|   LA|\n|  5.0|   PA|\n|  3.0|   CA|\n|  5.0|   FL|\n|  4.0|   IN|\n|  4.0|   MO|\n|  4.0|   PA|\n|  4.0|   AZ|\n|  5.0|   FL|\n|  5.0|   PA|\n|  4.0|   MO|\n|  5.0|   FL|\n|  5.0|   PA|\n|  5.0|   MO|\n|  3.0|   IN|\n+-----+-----+\nonly showing top 20 rows\n\n"
        }
      ],
      "source": [
        "biz_w_review.filter(F.col('state').isin(states_list)).select('stars', 'state').show()"
      ]
    },
    {
      "cell_type": "code",
      "execution_count": null,
      "id": "f4ae0833-668a-46e1-815b-be6d41f35e41",
      "metadata": {
        "id": "f4ae0833-668a-46e1-815b-be6d41f35e41",
        "outputId": "821b3a8c-f2de-4570-f96c-2e4d51953d3c"
      },
      "outputs": [
        {
          "name": "stderr",
          "output_type": "stream",
          "text": "                                                                                \r"
        }
      ],
      "source": [
        "plot_slice = biz_w_review.filter(F.col('state').isin(states_list)).select('stars', 'state').toPandas()"
      ]
    },
    {
      "cell_type": "code",
      "execution_count": null,
      "id": "9ad9dbff-bb2f-4130-97b8-9b05f6bf9d59",
      "metadata": {
        "id": "9ad9dbff-bb2f-4130-97b8-9b05f6bf9d59",
        "outputId": "d3e7260d-a79d-4ee7-828d-71fec4afabf7"
      },
      "outputs": [
        {
          "data": {
            "text/plain": "<Figure size 1000x600 with 0 Axes>"
          },
          "metadata": {},
          "output_type": "display_data"
        },
        {
          "data": {
            "image/png": "[encoded data removed]",
            "text/plain": "<Figure size 1600x1600 with 14 Axes>"
          },
          "metadata": {},
          "output_type": "display_data"
        }
      ],
      "source": [
        "plt.figure(figsize=(10, 6))\n",
        "sns.catplot(data=plot_slice, x='stars', kind='count', col='state', col_wrap=4, height=4)\n",
        "\n",
        "plt.subplots_adjust(top=0.9)\n",
        "plt.suptitle('Frequency of Review Ratings By State (Reviews > 50)')\n",
        "plt.show();"
      ]
    },
    {
      "cell_type": "markdown",
      "id": "361533f2-a523-4d7b-ae44-fe61d2699fd7",
      "metadata": {
        "id": "361533f2-a523-4d7b-ae44-fe61d2699fd7"
      },
      "source": [
        "In prior analyses, we focused on identifying states with the highest volume of reviews. Building on this, our current graph shifts to understanding the distribution of ratings across various states. The count of reviews in each rating is irrelevant, as the main insight here is the shape that the distributions take. If you look closely across each state, you'll notice that the distributions are relatively the same, with the highest frequency of ratings falling at 5, then 4, then 1. This suggests that at this level of aggregation there is no difference among states in terms of ratings. Given this result, we should drill further into specific categories or cities."
      ]
    },
    {
      "cell_type": "markdown",
      "id": "20f4c4ff-71a6-485a-95cf-3b137a0448ab",
      "metadata": {
        "id": "20f4c4ff-71a6-485a-95cf-3b137a0448ab"
      },
      "source": [
        "**Q10. What are the top 10 most rated and least rated business categories based on their ratings from the users?**"
      ]
    },
    {
      "cell_type": "code",
      "execution_count": null,
      "id": "8b21155c-fe8c-4a22-a16d-b820f0c2945c",
      "metadata": {
        "id": "8b21155c-fe8c-4a22-a16d-b820f0c2945c",
        "outputId": "fd9ba90e-d526-44a1-e827-c4b5c6c9957b"
      },
      "outputs": [
        {
          "name": "stderr",
          "output_type": "stream",
          "text": "[Stage 32:===========================================>              (3 + 1) / 4]\r"
        },
        {
          "name": "stdout",
          "output_type": "stream",
          "text": "+------------------+-------------+\n|          category|average_stars|\n+------------------+-------------+\n|        Patent Law|          5.0|\n|   Water Suppliers|          5.0|\n|Editorial Services|          5.0|\n|           Embassy|          5.0|\n| IP & Internet Law|          5.0|\n|            Mohels|          5.0|\n|       Calligraphy|          5.0|\n|    Karaoke Rental|          5.0|\n|       Experiences|          5.0|\n|   Art Consultants|          5.0|\n+------------------+-------------+\n\n"
        },
        {
          "name": "stderr",
          "output_type": "stream",
          "text": "                                                                                \r"
        }
      ],
      "source": [
        "df_business_1 = df_business.withColumn(\"category\", F.explode(F.split(F.col(\"categories\"), \", \")))\n",
        "avg_rating_per_category = df_business_1.groupBy(\"category\") \\\n",
        "                                              .agg(F.avg(\"stars\").alias(\"average_stars\")) \\\n",
        "                                              .orderBy(F.desc(\"average_stars\"))\\\n",
        "                                              .limit(10)\n",
        "\n",
        "avg_rating_per_category.show()"
      ]
    },
    {
      "cell_type": "code",
      "execution_count": null,
      "id": "88c04f9e-337f-4251-977d-f985bb1923b7",
      "metadata": {
        "id": "88c04f9e-337f-4251-977d-f985bb1923b7",
        "outputId": "559a07f6-d8c4-46b0-ec64-c823c1321ba1"
      },
      "outputs": [
        {
          "name": "stderr",
          "output_type": "stream",
          "text": "[Stage 35:>                                                         (0 + 4) / 4]\r"
        },
        {
          "name": "stdout",
          "output_type": "stream",
          "text": "+--------------------+------------------+\n|            category|     average_stars|\n+--------------------+------------------+\n|Electricity Suppl...|               1.5|\n|           Foot Care|               1.5|\n|            Sledding|               2.0|\n|        Pathologists|               2.0|\n|       DIY Auto Shop|               2.0|\n|   Behavior Analysts| 2.142857142857143|\n|Television Servic...|2.2016806722689077|\n|          Urologists|2.2708333333333335|\n|        Car Auctions|               2.3|\n|  University Housing|2.3229166666666665|\n+--------------------+------------------+\n\n"
        },
        {
          "name": "stderr",
          "output_type": "stream",
          "text": "                                                                                \r"
        }
      ],
      "source": [
        "avg_rating_per_category = df_business_1.groupBy(\"category\") \\\n",
        "                                              .agg(F.avg(\"stars\").alias(\"average_stars\")) \\\n",
        "                                              .orderBy(F.asc(\"average_stars\"))\\\n",
        "                                              .limit(10)\n",
        "\n",
        "avg_rating_per_category.show()"
      ]
    },
    {
      "cell_type": "markdown",
      "id": "5cc5136d-eaa7-4778-b190-a60fc2e7f539",
      "metadata": {
        "id": "5cc5136d-eaa7-4778-b190-a60fc2e7f539"
      },
      "source": [
        "The insights derived from these query outcomes enable a nuanced comprehension of customer preferences, as manifested through their reviews. The analysis delineates a clear dichotomy in user sentiment: on one end of the spectrum, business categories such as Mohels, Embassy, Water Suppliers, and Art Consultants are universally acclaimed, consistently garnering the pinnacle of ratings. Conversely, on the opposite end, categories including Electricity Suppliers, Foot Care, Sledding , and Car Auctions appear to be less favored, with average ratings approximating 2. This data not only reflects the collective approval or disapproval of services but also potentially guides future improvements in customer satisfaction and business strategies."
      ]
    },
    {
      "cell_type": "markdown",
      "id": "5f21c10f-5377-4dbb-b6e7-98905dd01ff5",
      "metadata": {
        "id": "5f21c10f-5377-4dbb-b6e7-98905dd01ff5"
      },
      "source": [
        "**Q11. What are the top 5 businesses with the most checkins recorded?**"
      ]
    },
    {
      "cell_type": "code",
      "execution_count": null,
      "id": "0cc84110-e6ae-451d-acc9-47f9920a4575",
      "metadata": {
        "id": "0cc84110-e6ae-451d-acc9-47f9920a4575",
        "outputId": "1bce646d-3b86-4c51-9ba4-dffbeb6b2875"
      },
      "outputs": [
        {
          "name": "stderr",
          "output_type": "stream",
          "text": "                                                                                \r"
        },
        {
          "name": "stdout",
          "output_type": "stream",
          "text": "+--------------------+--------------+\n|                name|total_checkins|\n+--------------------+--------------+\n|Philadelphia Inte...|         52144|\n|       Café Du Monde|         40109|\n|Louis Armstrong N...|         37562|\n|Tampa Internation...|         37518|\n|Nashville Interna...|         31168|\n+--------------------+--------------+\n\n"
        }
      ],
      "source": [
        "df_checkin_1 = df_checkin.withColumn(\"checkin_date\", explode(split(col(\"date\"), \",\\s*\")))\n",
        "joined_df = df_business.join(df_checkin_1, \"business_id\")\n",
        "top_business_checkins = joined_df.groupBy(\"business_id\", \"name\") \\\n",
        "                                 .agg(count(\"checkin_date\").alias(\"total_checkins\")) \\\n",
        "                                 .orderBy(col(\"total_checkins\").desc()) \\\n",
        "                                 .limit(5)\n",
        "\n",
        "top_business_checkins.select('name', 'total_checkins').show()"
      ]
    },
    {
      "cell_type": "markdown",
      "id": "adffd42f-c813-4f5e-b566-aec92fd535b6",
      "metadata": {
        "id": "adffd42f-c813-4f5e-b566-aec92fd535b6"
      },
      "source": [
        "The query results identify the top five businesses with the highest customer check-ins, offering key insights into customer footfall and popularity. This information is crucial for understanding market trends, guiding marketing strategies, and assessing competitive standing. High check-in counts can indicate successful customer engagement and attraction, serving as a valuable metric for business growth and strategic decision-making."
      ]
    },
    {
      "cell_type": "markdown",
      "id": "9667f727-c2b8-4e55-a9ad-fa7fd7a1010b",
      "metadata": {
        "id": "9667f727-c2b8-4e55-a9ad-fa7fd7a1010b"
      },
      "source": [
        "**Q12. Which businesses demonstrate both high engagement and consistent quality, based on their tip and review counts, and stable yearly ratings?**"
      ]
    },
    {
      "cell_type": "code",
      "execution_count": null,
      "id": "e9117e29-e015-44f3-aeed-99b460b4ef88",
      "metadata": {
        "id": "e9117e29-e015-44f3-aeed-99b460b4ef88",
        "outputId": "6f41320d-fdc1-42d9-a957-43c9e089db76"
      },
      "outputs": [
        {
          "name": "stderr",
          "output_type": "stream",
          "text": "24/04/01 22:43:10 WARN BlockManagerMasterEndpoint: No more replicas available for rdd_23_34 !\n24/04/01 22:43:10 WARN BlockManagerMasterEndpoint: No more replicas available for rdd_23_26 !\n24/04/01 22:43:10 WARN BlockManagerMasterEndpoint: No more replicas available for rdd_87_19 !\n24/04/01 22:43:10 WARN BlockManagerMasterEndpoint: No more replicas available for rdd_23_5 !\n24/04/01 22:43:10 WARN BlockManagerMasterEndpoint: No more replicas available for rdd_23_29 !\n24/04/01 22:43:10 WARN BlockManagerMasterEndpoint: No more replicas available for rdd_23_7 !\n24/04/01 22:43:10 WARN BlockManagerMasterEndpoint: No more replicas available for rdd_87_0 !\n24/04/01 22:43:10 WARN BlockManagerMasterEndpoint: No more replicas available for rdd_23_21 !\n24/04/01 22:43:10 WARN BlockManagerMasterEndpoint: No more replicas available for rdd_87_1 !\n24/04/01 22:43:10 WARN BlockManagerMasterEndpoint: No more replicas available for rdd_87_3 !\n24/04/01 22:43:10 WARN BlockManagerMasterEndpoint: No more replicas available for rdd_87_7 !\n24/04/01 22:43:10 WARN BlockManagerMasterEndpoint: No more replicas available for rdd_23_10 !\n24/04/01 22:43:10 WARN BlockManagerMasterEndpoint: No more replicas available for rdd_23_1 !\n24/04/01 22:43:10 WARN BlockManagerMasterEndpoint: No more replicas available for rdd_87_23 !\n24/04/01 22:43:10 WARN BlockManagerMasterEndpoint: No more replicas available for rdd_23_11 !\n24/04/01 22:43:10 WARN BlockManagerMasterEndpoint: No more replicas available for rdd_23_3 !\n24/04/01 22:43:10 WARN BlockManagerMasterEndpoint: No more replicas available for rdd_23_37 !\n24/04/01 22:43:10 WARN BlockManagerMasterEndpoint: No more replicas available for rdd_87_18 !\n24/04/01 22:43:10 WARN BlockManagerMasterEndpoint: No more replicas available for rdd_23_13 !\n24/04/01 22:43:10 WARN BlockManagerMasterEndpoint: No more replicas available for rdd_87_16 !\n24/04/01 22:43:10 WARN BlockManagerMasterEndpoint: No more replicas available for rdd_23_36 !\n24/04/01 22:43:10 WARN BlockManagerMasterEndpoint: No more replicas available for rdd_87_4 !\n24/04/01 22:43:10 WARN BlockManagerMasterEndpoint: No more replicas available for rdd_87_9 !\n24/04/01 22:43:10 WARN BlockManagerMasterEndpoint: No more replicas available for rdd_23_16 !\n24/04/01 22:43:10 WARN BlockManagerMasterEndpoint: No more replicas available for rdd_39_2 !\n24/04/01 22:43:10 WARN BlockManagerMasterEndpoint: No more replicas available for rdd_23_23 !\n24/04/01 22:43:10 WARN BlockManagerMasterEndpoint: No more replicas available for rdd_39_0 !\n24/04/01 22:43:10 WARN BlockManagerMasterEndpoint: No more replicas available for rdd_23_9 !\n24/04/01 22:43:10 WARN BlockManagerMasterEndpoint: No more replicas available for rdd_23_4 !\n24/04/01 22:43:10 WARN BlockManagerMasterEndpoint: No more replicas available for rdd_23_12 !\n24/04/01 22:43:10 WARN BlockManagerMasterEndpoint: No more replicas available for rdd_87_14 !\n24/04/01 22:43:10 WARN BlockManagerMasterEndpoint: No more replicas available for rdd_23_2 !\n24/04/01 22:43:10 WARN BlockManagerMasterEndpoint: No more replicas available for rdd_23_22 !\n24/04/01 22:43:10 WARN BlockManagerMasterEndpoint: No more replicas available for rdd_23_30 !\n24/04/01 22:43:10 WARN BlockManagerMasterEndpoint: No more replicas available for rdd_39_1 !\n24/04/01 22:43:10 WARN BlockManagerMasterEndpoint: No more replicas available for rdd_55_1 !\n24/04/01 22:43:10 WARN BlockManagerMasterEndpoint: No more replicas available for rdd_23_28 !\n24/04/01 22:43:10 WARN BlockManagerMasterEndpoint: No more replicas available for rdd_23_20 !\n24/04/01 22:43:10 WARN BlockManagerMasterEndpoint: No more replicas available for rdd_71_2 !\n24/04/01 22:43:10 WARN BlockManagerMasterEndpoint: No more replicas available for rdd_87_12 !\n24/04/01 22:43:10 WARN BlockManagerMasterEndpoint: No more replicas available for rdd_23_8 !\n24/04/01 22:43:10 WARN BlockManagerMasterEndpoint: No more replicas available for rdd_87_2 !\n24/04/01 22:43:10 WARN BlockManagerMasterEndpoint: No more replicas available for rdd_87_22 !\n24/04/01 22:43:10 WARN BlockManagerMasterEndpoint: No more replicas available for rdd_87_10 !\n24/04/01 22:43:10 WARN BlockManagerMasterEndpoint: No more replicas available for rdd_23_33 !\n24/04/01 22:43:10 WARN BlockManagerMasterEndpoint: No more replicas available for rdd_23_25 !\n24/04/01 22:43:10 WARN BlockManagerMasterEndpoint: No more replicas available for rdd_71_1 !\n24/04/01 22:43:10 WARN BlockManagerMasterEndpoint: No more replicas available for rdd_71_0 !\n24/04/01 22:43:10 WARN BlockManagerMasterEndpoint: No more replicas available for rdd_87_17 !\n24/04/01 22:43:10 WARN BlockManagerMasterEndpoint: No more replicas available for rdd_23_0 !\n24/04/01 22:43:10 WARN BlockManagerMasterEndpoint: No more replicas available for rdd_71_3 !\n24/04/01 22:43:10 WARN BlockManagerMasterEndpoint: No more replicas available for rdd_23_19 !\n24/04/01 22:43:10 WARN BlockManagerMasterEndpoint: No more replicas available for rdd_55_3 !\n24/04/01 22:43:10 WARN BlockManagerMasterEndpoint: No more replicas available for rdd_87_8 !\n24/04/01 22:43:10 WARN BlockManagerMasterEndpoint: No more replicas available for rdd_39_3 !\n24/04/01 22:43:10 WARN BlockManagerMasterEndpoint: No more replicas available for rdd_23_18 !\n24/04/01 22:43:10 WARN BlockManagerMasterEndpoint: No more replicas available for rdd_23_31 !\n24/04/01 22:43:10 WARN BlockManagerMasterEndpoint: No more replicas available for rdd_23_6 !\n24/04/01 22:43:10 WARN BlockManagerMasterEndpoint: No more replicas available for rdd_23_39 !\n24/04/01 22:43:10 WARN BlockManagerMasterEndpoint: No more replicas available for rdd_87_20 !\n24/04/01 22:43:10 WARN BlockManagerMasterEndpoint: No more replicas available for rdd_87_21 !\n24/04/01 22:43:10 WARN BlockManagerMasterEndpoint: No more replicas available for rdd_23_17 !\n24/04/01 22:43:10 WARN BlockManagerMasterEndpoint: No more replicas available for rdd_23_38 !\n24/04/01 22:43:10 WARN BlockManagerMasterEndpoint: No more replicas available for rdd_87_11 !\n24/04/01 22:43:10 WARN BlockManagerMaster: Failed to remove broadcast 293 with removeFromMaster = true - org.apache.spark.SparkException: Could not find BlockManagerEndpoint1.\n\tat org.apache.spark.rpc.netty.Dispatcher.postMessage(Dispatcher.scala:178)\n\tat org.apache.spark.rpc.netty.Dispatcher.postRemoteMessage(Dispatcher.scala:136)\n\tat org.apache.spark.rpc.netty.NettyRpcHandler.receive(NettyRpcEnv.scala:683)\n\tat org.apache.spark.network.server.TransportRequestHandler.processRpcRequest(TransportRequestHandler.java:163)\n\tat org.apache.spark.network.server.TransportRequestHandler.handle(TransportRequestHandler.java:109)\n\tat org.apache.spark.network.server.TransportChannelHandler.channelRead0(TransportChannelHandler.java:140)\n\tat org.apache.spark.network.server.TransportChannelHandler.channelRead0(TransportChannelHandler.java:53)\n\tat io.netty.channel.SimpleChannelInboundHandler.channelRead(SimpleChannelInboundHandler.java:99)\n\tat io.netty.channel.AbstractChannelHandlerContext.invokeChannelRead(AbstractChannelHandlerContext.java:379)\n\tat io.netty.channel.AbstractChannelHandlerContext.invokeChannelRead(AbstractChannelHandlerContext.java:365)\n\tat io.netty.channel.AbstractChannelHandlerContext.fireChannelRead(AbstractChannelHandlerContext.java:357)\n\tat io.netty.handler.timeout.IdleStateHandler.channelRead(IdleStateHandler.java:286)\n\tat io.netty.channel.AbstractChannelHandlerContext.invokeChannelRead(AbstractChannelHandlerContext.java:379)\n\tat io.netty.channel.AbstractChannelHandlerContext.invokeChannelRead(AbstractChannelHandlerContext.java:365)\n\tat io.netty.channel.AbstractChannelHandlerContext.fireChannelRead(AbstractChannelHandlerContext.java:357)\n\tat io.netty.handler.codec.MessageToMessageDecoder.channelRead(MessageToMessageDecoder.java:103)\n\tat io.netty.channel.AbstractChannelHandlerContext.invokeChannelRead(AbstractChannelHandlerContext.java:379)\n\tat io.netty.channel.AbstractChannelHandlerContext.invokeChannelRead(AbstractChannelHandlerContext.java:365)\n\tat io.netty.channel.AbstractChannelHandlerContext.fireChannelRead(AbstractChannelHandlerContext.java:357)\n\tat org.apache.spark.network.util.TransportFrameDecoder.channelRead(TransportFrameDecoder.java:102)\n\tat io.netty.channel.AbstractChannelHandlerContext.invokeChannelRead(AbstractChannelHandlerContext.java:379)\n\tat io.netty.channel.AbstractChannelHandlerContext.invokeChannelRead(AbstractChannelHandlerContext.java:365)\n\tat io.netty.channel.AbstractChannelHandlerContext.fireChannelRead(AbstractChannelHandlerContext.java:357)\n\tat io.netty.channel.DefaultChannelPipeline$HeadContext.channelRead(DefaultChannelPipeline.java:1410)\n\tat io.netty.channel.AbstractChannelHandlerContext.invokeChannelRead(AbstractChannelHandlerContext.java:379)\n\tat io.netty.channel.AbstractChannelHandlerContext.invokeChannelRead(AbstractChannelHandlerContext.java:365)\n\tat io.netty.channel.DefaultChannelPipeline.fireChannelRead(DefaultChannelPipeline.java:919)\n\tat io.netty.channel.nio.AbstractNioByteChannel$NioByteUnsafe.read(AbstractNioByteChannel.java:166)\n\tat io.netty.channel.nio.NioEventLoop.processSelectedKey(NioEventLoop.java:722)\n\tat io.netty.channel.nio.NioEventLoop.processSelectedKeysOptimized(NioEventLoop.java:658)\n\tat io.netty.channel.nio.NioEventLoop.processSelectedKeys(NioEventLoop.java:584)\n\tat io.netty.channel.nio.NioEventLoop.run(NioEventLoop.java:496)\n\tat io.netty.util.concurrent.SingleThreadEventExecutor$4.run(SingleThreadEventExecutor.java:995)\n\tat io.netty.util.internal.ThreadExecutorMap$2.run(ThreadExecutorMap.java:74)\n\tat io.netty.util.concurrent.FastThreadLocalRunnable.run(FastThreadLocalRunnable.java:30)\n\tat java.base/java.lang.Thread.run(Thread.java:829)\n\njava.lang.RuntimeException: org.apache.spark.SparkException: Could not find BlockManagerEndpoint1.\n\tat org.apache.spark.rpc.netty.Dispatcher.postMessage(Dispatcher.scala:178)\n\tat org.apache.spark.rpc.netty.Dispatcher.postRemoteMessage(Dispatcher.scala:136)\n\tat org.apache.spark.rpc.netty.NettyRpcHandler.receive(NettyRpcEnv.scala:683)\n\tat org.apache.spark.network.server.TransportRequestHandler.processRpcRequest(TransportRequestHandler.java:163)\n\tat org.apache.spark.network.server.TransportRequestHandler.handle(TransportRequestHandler.java:109)\n\tat org.apache.spark.network.server.TransportChannelHandler.channelRead0(TransportChannelHandler.java:140)\n\tat org.apache.spark.network.server.TransportChannelHandler.channelRead0(TransportChannelHandler.java:53)\n\tat io.netty.channel.SimpleChannelInboundHandler.channelRead(SimpleChannelInboundHandler.java:99)\n\tat io.netty.channel.AbstractChannelHandlerContext.invokeChannelRead(AbstractChannelHandlerContext.java:379)\n\tat io.netty.channel.AbstractChannelHandlerContext.invokeChannelRead(AbstractChannelHandlerContext.java:365)\n\tat io.netty.channel.AbstractChannelHandlerContext.fireChannelRead(AbstractChannelHandlerContext.java:357)\n\tat io.netty.handler.timeout.IdleStateHandler.channelRead(IdleStateHandler.java:286)\n\tat io.netty.channel.AbstractChannelHandlerContext.invokeChannelRead(AbstractChannelHandlerContext.java:379)\n\tat io.netty.channel.AbstractChannelHandlerContext.invokeChannelRead(AbstractChannelHandlerContext.java:365)\n\tat io.netty.channel.AbstractChannelHandlerContext.fireChannelRead(AbstractChannelHandlerContext.java:357)\n\tat io.netty.handler.codec.MessageToMessageDecoder.channelRead(MessageToMessageDecoder.java:103)\n\tat io.netty.channel.AbstractChannelHandlerContext.invokeChannelRead(AbstractChannelHandlerContext.java:379)\n\tat io.netty.channel.AbstractChannelHandlerContext.invokeChannelRead(AbstractChannelHandlerContext.java:365)\n\tat io.netty.channel.AbstractChannelHandlerContext.fireChannelRead(AbstractChannelHandlerContext.java:357)\n\tat org.apache.spark.network.util.TransportFrameDecoder.channelRead(TransportFrameDecoder.java:102)\n\tat io.netty.channel.AbstractChannelHandlerContext.invokeChannelRead(AbstractChannelHandlerContext.java:379)\n\tat io.netty.channel.AbstractChannelHandlerContext.invokeChannelRead(AbstractChannelHandlerContext.java:365)\n\tat io.netty.channel.AbstractChannelHandlerContext.fireChannelRead(AbstractChannelHandlerContext.java:357)\n\tat io.netty.channel.DefaultChannelPipeline$HeadContext.channelRead(DefaultChannelPipeline.java:1410)\n\tat io.netty.channel.AbstractChannelHandlerContext.invokeChannelRead(AbstractChannelHandlerContext.java:379)\n\tat io.netty.channel.AbstractChannelHandlerContext.invokeChannelRead(AbstractChannelHandlerContext.java:365)\n\tat io.netty.channel.DefaultChannelPipeline.fireChannelRead(DefaultChannelPipeline.java:919)\n\tat io.netty.channel.nio.AbstractNioByteChannel$NioByteUnsafe.read(AbstractNioByteChannel.java:166)\n\tat io.netty.channel.nio.NioEventLoop.processSelectedKey(NioEventLoop.java:722)\n\tat io.netty.channel.nio.NioEventLoop.processSelectedKeysOptimized(NioEventLoop.java:658)\n\tat io.netty.channel.nio.NioEventLoop.processSelectedKeys(NioEventLoop.java:584)\n\tat io.netty.channel.nio.NioEventLoop.run(NioEventLoop.java:496)\n\tat io.netty.util.concurrent.SingleThreadEventExecutor$4.run(SingleThreadEventExecutor.java:995)\n\tat io.netty.util.internal.ThreadExecutorMap$2.run(ThreadExecutorMap.java:74)\n\tat io.netty.util.concurrent.FastThreadLocalRunnable.run(FastThreadLocalRunnable.java:30)\n\tat java.base/java.lang.Thread.run(Thread.java:829)\n\n\tat org.apache.spark.network.client.TransportResponseHandler.handle(TransportResponseHandler.java:209) ~[spark-network-common_2.12-3.3.2.jar:3.3.2]\n\tat org.apache.spark.network.server.TransportChannelHandler.channelRead0(TransportChannelHandler.java:142) ~[spark-network-common_2.12-3.3.2.jar:3.3.2]\n\tat org.apache.spark.network.server.TransportChannelHandler.channelRead0(TransportChannelHandler.java:53) ~[spark-network-common_2.12-3.3.2.jar:3.3.2]\n\tat io.netty.channel.SimpleChannelInboundHandler.channelRead(SimpleChannelInboundHandler.java:99) ~[netty-transport-4.1.77.Final.jar:4.1.77.Final]\n\tat io.netty.channel.AbstractChannelHandlerContext.invokeChannelRead(AbstractChannelHandlerContext.java:379) ~[netty-transport-4.1.77.Final.jar:4.1.77.Final]\n\tat io.netty.channel.AbstractChannelHandlerContext.invokeChannelRead(AbstractChannelHandlerContext.java:365) ~[netty-transport-4.1.77.Final.jar:4.1.77.Final]\n\tat io.netty.channel.AbstractChannelHandlerContext.fireChannelRead(AbstractChannelHandlerContext.java:357) ~[netty-transport-4.1.77.Final.jar:4.1.77.Final]\n\tat io.netty.handler.timeout.IdleStateHandler.channelRead(IdleStateHandler.java:286) ~[netty-handler-4.1.77.Final.jar:4.1.77.Final]\n\tat io.netty.channel.AbstractChannelHandlerContext.invokeChannelRead(AbstractChannelHandlerContext.java:379) ~[netty-transport-4.1.77.Final.jar:4.1.77.Final]\n\tat io.netty.channel.AbstractChannelHandlerContext.invokeChannelRead(AbstractChannelHandlerContext.java:365) ~[netty-transport-4.1.77.Final.jar:4.1.77.Final]\n\tat io.netty.channel.AbstractChannelHandlerContext.fireChannelRead(AbstractChannelHandlerContext.java:357) ~[netty-transport-4.1.77.Final.jar:4.1.77.Final]\n\tat io.netty.handler.codec.MessageToMessageDecoder.channelRead(MessageToMessageDecoder.java:103) ~[netty-codec-4.1.77.Final.jar:4.1.77.Final]\n\tat io.netty.channel.AbstractChannelHandlerContext.invokeChannelRead(AbstractChannelHandlerContext.java:379) ~[netty-transport-4.1.77.Final.jar:4.1.77.Final]\n\tat io.netty.channel.AbstractChannelHandlerContext.invokeChannelRead(AbstractChannelHandlerContext.java:365) ~[netty-transport-4.1.77.Final.jar:4.1.77.Final]\n\tat io.netty.channel.AbstractChannelHandlerContext.fireChannelRead(AbstractChannelHandlerContext.java:357) ~[netty-transport-4.1.77.Final.jar:4.1.77.Final]\n\tat org.apache.spark.network.util.TransportFrameDecoder.channelRead(TransportFrameDecoder.java:102) ~[spark-network-common_2.12-3.3.2.jar:3.3.2]\n\tat io.netty.channel.AbstractChannelHandlerContext.invokeChannelRead(AbstractChannelHandlerContext.java:379) ~[netty-transport-4.1.77.Final.jar:4.1.77.Final]\n\tat io.netty.channel.AbstractChannelHandlerContext.invokeChannelRead(AbstractChannelHandlerContext.java:365) ~[netty-transport-4.1.77.Final.jar:4.1.77.Final]\n\tat io.netty.channel.AbstractChannelHandlerContext.fireChannelRead(AbstractChannelHandlerContext.java:357) ~[netty-transport-4.1.77.Final.jar:4.1.77.Final]\n\tat io.netty.channel.DefaultChannelPipeline$HeadContext.channelRead(DefaultChannelPipeline.java:1410) ~[netty-transport-4.1.77.Final.jar:4.1.77.Final]\n\tat io.netty.channel.AbstractChannelHandlerContext.invokeChannelRead(AbstractChannelHandlerContext.java:379) ~[netty-transport-4.1.77.Final.jar:4.1.77.Final]\n\tat io.netty.channel.AbstractChannelHandlerContext.invokeChannelRead(AbstractChannelHandlerContext.java:365) ~[netty-transport-4.1.77.Final.jar:4.1.77.Final]\n\tat io.netty.channel.DefaultChannelPipeline.fireChannelRead(DefaultChannelPipeline.java:919) ~[netty-transport-4.1.77.Final.jar:4.1.77.Final]\n\tat io.netty.channel.nio.AbstractNioByteChannel$NioByteUnsafe.read(AbstractNioByteChannel.java:166) ~[netty-transport-4.1.77.Final.jar:4.1.77.Final]\n\tat io.netty.channel.nio.NioEventLoop.processSelectedKey(NioEventLoop.java:722) ~[netty-transport-4.1.77.Final.jar:4.1.77.Final]\n\tat io.netty.channel.nio.NioEventLoop.processSelectedKeysOptimized(NioEventLoop.java:658) ~[netty-transport-4.1.77.Final.jar:4.1.77.Final]\n\tat io.netty.channel.nio.NioEventLoop.processSelectedKeys(NioEventLoop.java:584) ~[netty-transport-4.1.77.Final.jar:4.1.77.Final]\n\tat io.netty.channel.nio.NioEventLoop.run(NioEventLoop.java:496) ~[netty-transport-4.1.77.Final.jar:4.1.77.Final]\n\tat io.netty.util.concurrent.SingleThreadEventExecutor$4.run(SingleThreadEventExecutor.java:995) ~[netty-common-4.1.77.Final.jar:4.1.77.Final]\n\tat io.netty.util.internal.ThreadExecutorMap$2.run(ThreadExecutorMap.java:74) ~[netty-common-4.1.77.Final.jar:4.1.77.Final]\n\tat io.netty.util.concurrent.FastThreadLocalRunnable.run(FastThreadLocalRunnable.java:30) ~[netty-common-4.1.77.Final.jar:4.1.77.Final]\n\tat java.lang.Thread.run(Thread.java:829) ~[?:?]\n24/04/01 22:43:10 ERROR ContextCleaner: Error cleaning broadcast 293\norg.apache.spark.SparkException: Exception thrown in awaitResult: \n\tat org.apache.spark.util.ThreadUtils$.awaitResult(ThreadUtils.scala:301) ~[spark-core_2.12-3.3.2.jar:3.3.2]\n\tat org.apache.spark.rpc.RpcTimeout.awaitResult(RpcTimeout.scala:75) ~[spark-core_2.12-3.3.2.jar:3.3.2]\n\tat org.apache.spark.storage.BlockManagerMaster.removeBroadcast(BlockManagerMaster.scala:209) ~[spark-core_2.12-3.3.2.jar:3.3.2]\n\tat org.apache.spark.broadcast.TorrentBroadcast$.unpersist(TorrentBroadcast.scala:351) ~[spark-core_2.12-3.3.2.jar:3.3.2]\n\tat org.apache.spark.broadcast.TorrentBroadcastFactory.unbroadcast(TorrentBroadcastFactory.scala:45) ~[spark-core_2.12-3.3.2.jar:3.3.2]\n\tat org.apache.spark.broadcast.BroadcastManager.unbroadcast(BroadcastManager.scala:79) ~[spark-core_2.12-3.3.2.jar:3.3.2]\n\tat org.apache.spark.ContextCleaner.doCleanupBroadcast(ContextCleaner.scala:256) ~[spark-core_2.12-3.3.2.jar:3.3.2]\n\tat org.apache.spark.ContextCleaner.$anonfun$keepCleaning$3(ContextCleaner.scala:204) ~[spark-core_2.12-3.3.2.jar:3.3.2]\n\tat org.apache.spark.ContextCleaner.$anonfun$keepCleaning$3$adapted(ContextCleaner.scala:195) ~[spark-core_2.12-3.3.2.jar:3.3.2]\n\tat scala.Option.foreach(Option.scala:407) ~[scala-library-2.12.18.jar:?]\n\tat org.apache.spark.ContextCleaner.$anonfun$keepCleaning$1(ContextCleaner.scala:195) ~[spark-core_2.12-3.3.2.jar:3.3.2]\n\tat org.apache.spark.util.Utils$.tryOrStopSparkContext(Utils.scala:1447) ~[spark-core_2.12-3.3.2.jar:3.3.2]\n\tat org.apache.spark.ContextCleaner.org$apache$spark$ContextCleaner$$keepCleaning(ContextCleaner.scala:189) ~[spark-core_2.12-3.3.2.jar:3.3.2]\n\tat org.apache.spark.ContextCleaner$$anon$1.run(ContextCleaner.scala:79) ~[spark-core_2.12-3.3.2.jar:3.3.2]\nCaused by: java.lang.RuntimeException: org.apache.spark.SparkException: Could not find BlockManagerEndpoint1.\n\tat org.apache.spark.rpc.netty.Dispatcher.postMessage(Dispatcher.scala:178)\n\tat org.apache.spark.rpc.netty.Dispatcher.postRemoteMessage(Dispatcher.scala:136)\n\tat org.apache.spark.rpc.netty.NettyRpcHandler.receive(NettyRpcEnv.scala:683)\n\tat org.apache.spark.network.server.TransportRequestHandler.processRpcRequest(TransportRequestHandler.java:163)\n\tat org.apache.spark.network.server.TransportRequestHandler.handle(TransportRequestHandler.java:109)\n\tat org.apache.spark.network.server.TransportChannelHandler.channelRead0(TransportChannelHandler.java:140)\n\tat org.apache.spark.network.server.TransportChannelHandler.channelRead0(TransportChannelHandler.java:53)\n\tat io.netty.channel.SimpleChannelInboundHandler.channelRead(SimpleChannelInboundHandler.java:99)\n\tat io.netty.channel.AbstractChannelHandlerContext.invokeChannelRead(AbstractChannelHandlerContext.java:379)\n\tat io.netty.channel.AbstractChannelHandlerContext.invokeChannelRead(AbstractChannelHandlerContext.java:365)\n\tat io.netty.channel.AbstractChannelHandlerContext.fireChannelRead(AbstractChannelHandlerContext.java:357)\n\tat io.netty.handler.timeout.IdleStateHandler.channelRead(IdleStateHandler.java:286)\n\tat io.netty.channel.AbstractChannelHandlerContext.invokeChannelRead(AbstractChannelHandlerContext.java:379)\n\tat io.netty.channel.AbstractChannelHandlerContext.invokeChannelRead(AbstractChannelHandlerContext.java:365)\n\tat io.netty.channel.AbstractChannelHandlerContext.fireChannelRead(AbstractChannelHandlerContext.java:357)\n\tat io.netty.handler.codec.MessageToMessageDecoder.channelRead(MessageToMessageDecoder.java:103)\n\tat io.netty.channel.AbstractChannelHandlerContext.invokeChannelRead(AbstractChannelHandlerContext.java:379)\n\tat io.netty.channel.AbstractChannelHandlerContext.invokeChannelRead(AbstractChannelHandlerContext.java:365)\n\tat io.netty.channel.AbstractChannelHandlerContext.fireChannelRead(AbstractChannelHandlerContext.java:357)\n\tat org.apache.spark.network.util.TransportFrameDecoder.channelRead(TransportFrameDecoder.java:102)\n\tat io.netty.channel.AbstractChannelHandlerContext.invokeChannelRead(AbstractChannelHandlerContext.java:379)\n\tat io.netty.channel.AbstractChannelHandlerContext.invokeChannelRead(AbstractChannelHandlerContext.java:365)\n\tat io.netty.channel.AbstractChannelHandlerContext.fireChannelRead(AbstractChannelHandlerContext.java:357)\n\tat io.netty.channel.DefaultChannelPipeline$HeadContext.channelRead(DefaultChannelPipeline.java:1410)\n\tat io.netty.channel.AbstractChannelHandlerContext.invokeChannelRead(AbstractChannelHandlerContext.java:379)\n\tat io.netty.channel.AbstractChannelHandlerContext.invokeChannelRead(AbstractChannelHandlerContext.java:365)\n\tat io.netty.channel.DefaultChannelPipeline.fireChannelRead(DefaultChannelPipeline.java:919)\n\tat io.netty.channel.nio.AbstractNioByteChannel$NioByteUnsafe.read(AbstractNioByteChannel.java:166)\n\tat io.netty.channel.nio.NioEventLoop.processSelectedKey(NioEventLoop.java:722)\n\tat io.netty.channel.nio.NioEventLoop.processSelectedKeysOptimized(NioEventLoop.java:658)\n\tat io.netty.channel.nio.NioEventLoop.processSelectedKeys(NioEventLoop.java:584)\n\tat io.netty.channel.nio.NioEventLoop.run(NioEventLoop.java:496)\n\tat io.netty.util.concurrent.SingleThreadEventExecutor$4.run(SingleThreadEventExecutor.java:995)\n\tat io.netty.util.internal.ThreadExecutorMap$2.run(ThreadExecutorMap.java:74)\n\tat io.netty.util.concurrent.FastThreadLocalRunnable.run(FastThreadLocalRunnable.java:30)\n\tat java.base/java.lang.Thread.run(Thread.java:829)\n\n\tat org.apache.spark.network.client.TransportResponseHandler.handle(TransportResponseHandler.java:209) ~[spark-network-common_2.12-3.3.2.jar:3.3.2]\n\tat org.apache.spark.network.server.TransportChannelHandler.channelRead0(TransportChannelHandler.java:142) ~[spark-network-common_2.12-3.3.2.jar:3.3.2]\n\tat org.apache.spark.network.server.TransportChannelHandler.channelRead0(TransportChannelHandler.java:53) ~[spark-network-common_2.12-3.3.2.jar:3.3.2]\n\tat io.netty.channel.SimpleChannelInboundHandler.channelRead(SimpleChannelInboundHandler.java:99) ~[netty-transport-4.1.77.Final.jar:4.1.77.Final]\n\tat io.netty.channel.AbstractChannelHandlerContext.invokeChannelRead(AbstractChannelHandlerContext.java:379) ~[netty-transport-4.1.77.Final.jar:4.1.77.Final]\n\tat io.netty.channel.AbstractChannelHandlerContext.invokeChannelRead(AbstractChannelHandlerContext.java:365) ~[netty-transport-4.1.77.Final.jar:4.1.77.Final]\n\tat io.netty.channel.AbstractChannelHandlerContext.fireChannelRead(AbstractChannelHandlerContext.java:357) ~[netty-transport-4.1.77.Final.jar:4.1.77.Final]\n\tat io.netty.handler.timeout.IdleStateHandler.channelRead(IdleStateHandler.java:286) ~[netty-handler-4.1.77.Final.jar:4.1.77.Final]\n\tat io.netty.channel.AbstractChannelHandlerContext.invokeChannelRead(AbstractChannelHandlerContext.java:379) ~[netty-transport-4.1.77.Final.jar:4.1.77.Final]\n\tat io.netty.channel.AbstractChannelHandlerContext.invokeChannelRead(AbstractChannelHandlerContext.java:365) ~[netty-transport-4.1.77.Final.jar:4.1.77.Final]\n\tat io.netty.channel.AbstractChannelHandlerContext.fireChannelRead(AbstractChannelHandlerContext.java:357) ~[netty-transport-4.1.77.Final.jar:4.1.77.Final]\n\tat io.netty.handler.codec.MessageToMessageDecoder.channelRead(MessageToMessageDecoder.java:103) ~[netty-codec-4.1.77.Final.jar:4.1.77.Final]\n\tat io.netty.channel.AbstractChannelHandlerContext.invokeChannelRead(AbstractChannelHandlerContext.java:379) ~[netty-transport-4.1.77.Final.jar:4.1.77.Final]\n\tat io.netty.channel.AbstractChannelHandlerContext.invokeChannelRead(AbstractChannelHandlerContext.java:365) ~[netty-transport-4.1.77.Final.jar:4.1.77.Final]\n\tat io.netty.channel.AbstractChannelHandlerContext.fireChannelRead(AbstractChannelHandlerContext.java:357) ~[netty-transport-4.1.77.Final.jar:4.1.77.Final]\n\tat org.apache.spark.network.util.TransportFrameDecoder.channelRead(TransportFrameDecoder.java:102) ~[spark-network-common_2.12-3.3.2.jar:3.3.2]\n\tat io.netty.channel.AbstractChannelHandlerContext.invokeChannelRead(AbstractChannelHandlerContext.java:379) ~[netty-transport-4.1.77.Final.jar:4.1.77.Final]\n\tat io.netty.channel.AbstractChannelHandlerContext.invokeChannelRead(AbstractChannelHandlerContext.java:365) ~[netty-transport-4.1.77.Final.jar:4.1.77.Final]\n\tat io.netty.channel.AbstractChannelHandlerContext.fireChannelRead(AbstractChannelHandlerContext.java:357) ~[netty-transport-4.1.77.Final.jar:4.1.77.Final]\n\tat io.netty.channel.DefaultChannelPipeline$HeadContext.channelRead(DefaultChannelPipeline.java:1410) ~[netty-transport-4.1.77.Final.jar:4.1.77.Final]\n\tat io.netty.channel.AbstractChannelHandlerContext.invokeChannelRead(AbstractChannelHandlerContext.java:379) ~[netty-transport-4.1.77.Final.jar:4.1.77.Final]\n\tat io.netty.channel.AbstractChannelHandlerContext.invokeChannelRead(AbstractChannelHandlerContext.java:365) ~[netty-transport-4.1.77.Final.jar:4.1.77.Final]\n\tat io.netty.channel.DefaultChannelPipeline.fireChannelRead(DefaultChannelPipeline.java:919) ~[netty-transport-4.1.77.Final.jar:4.1.77.Final]\n\tat io.netty.channel.nio.AbstractNioByteChannel$NioByteUnsafe.read(AbstractNioByteChannel.java:166) ~[netty-transport-4.1.77.Final.jar:4.1.77.Final]\n\tat io.netty.channel.nio.NioEventLoop.processSelectedKey(NioEventLoop.java:722) ~[netty-transport-4.1.77.Final.jar:4.1.77.Final]\n\tat io.netty.channel.nio.NioEventLoop.processSelectedKeysOptimized(NioEventLoop.java:658) ~[netty-transport-4.1.77.Final.jar:4.1.77.Final]\n\tat io.netty.channel.nio.NioEventLoop.processSelectedKeys(NioEventLoop.java:584) ~[netty-transport-4.1.77.Final.jar:4.1.77.Final]\n\tat io.netty.channel.nio.NioEventLoop.run(NioEventLoop.java:496) ~[netty-transport-4.1.77.Final.jar:4.1.77.Final]\n\tat io.netty.util.concurrent.SingleThreadEventExecutor$4.run(SingleThreadEventExecutor.java:995) ~[netty-common-4.1.77.Final.jar:4.1.77.Final]\n\tat io.netty.util.internal.ThreadExecutorMap$2.run(ThreadExecutorMap.java:74) ~[netty-common-4.1.77.Final.jar:4.1.77.Final]\n\tat io.netty.util.concurrent.FastThreadLocalRunnable.run(FastThreadLocalRunnable.java:30) ~[netty-common-4.1.77.Final.jar:4.1.77.Final]\n\tat java.lang.Thread.run(Thread.java:829) ~[?:?]\n24/04/01 22:43:11 WARN YarnAllocator: Container from a bad node: container_1711994172856_0004_01_000002 on host: myspark33-m.c.ba843-team-5.internal. Exit status: 143. Diagnostics: [2024-04-01 22:43:11.028]Container killed on request. Exit code is 143\n[2024-04-01 22:43:11.028]Container exited with a non-zero exit code 143. \n[2024-04-01 22:43:11.039]Killed by external signal\n.\n24/04/01 22:43:11 WARN YarnSchedulerBackend$YarnSchedulerEndpoint: Requesting driver to remove executor 2 for reason Container from a bad node: container_1711994172856_0004_01_000002 on host: myspark33-m.c.ba843-team-5.internal. Exit status: 143. Diagnostics: [2024-04-01 22:43:11.028]Container killed on request. Exit code is 143\n[2024-04-01 22:43:11.028]Container exited with a non-zero exit code 143. \n[2024-04-01 22:43:11.039]Killed by external signal\n.\n24/04/01 22:43:11 ERROR YarnScheduler: Lost executor 2 on myspark33-m.c.ba843-team-5.internal: Container from a bad node: container_1711994172856_0004_01_000002 on host: myspark33-m.c.ba843-team-5.internal. Exit status: 143. Diagnostics: [2024-04-01 22:43:11.028]Container killed on request. Exit code is 143\n[2024-04-01 22:43:11.028]Container exited with a non-zero exit code 143. \n[2024-04-01 22:43:11.039]Killed by external signal\n.\n24/04/01 22:43:11 WARN TaskSetManager: Lost task 2.0 in stage 340.0 (TID 1892) (myspark33-m.c.ba843-team-5.internal executor 2): ExecutorLostFailure (executor 2 exited caused by one of the running tasks) Reason: Container from a bad node: container_1711994172856_0004_01_000002 on host: myspark33-m.c.ba843-team-5.internal. Exit status: 143. Diagnostics: [2024-04-01 22:43:11.028]Container killed on request. Exit code is 143\n[2024-04-01 22:43:11.028]Container exited with a non-zero exit code 143. \n[2024-04-01 22:43:11.039]Killed by external signal\n.\n24/04/01 22:43:11 WARN TaskSetManager: Lost task 3.0 in stage 340.0 (TID 1893) (myspark33-m.c.ba843-team-5.internal executor 2): ExecutorLostFailure (executor 2 exited caused by one of the running tasks) Reason: Container from a bad node: container_1711994172856_0004_01_000002 on host: myspark33-m.c.ba843-team-5.internal. Exit status: 143. Diagnostics: [2024-04-01 22:43:11.028]Container killed on request. Exit code is 143\n[2024-04-01 22:43:11.028]Container exited with a non-zero exit code 143. \n[2024-04-01 22:43:11.039]Killed by external signal\n.\n24/04/01 22:44:22 WARN BlockManagerMasterEndpoint: No more replicas available for rdd_23_24 !\n24/04/01 22:44:22 WARN BlockManagerMasterEndpoint: No more replicas available for rdd_23_15 !\n24/04/01 22:44:22 WARN BlockManagerMasterEndpoint: No more replicas available for rdd_23_7 !\n24/04/01 22:44:22 WARN BlockManagerMasterEndpoint: No more replicas available for rdd_87_13 !\n24/04/01 22:44:22 WARN BlockManagerMasterEndpoint: No more replicas available for rdd_87_24 !\n24/04/01 22:44:22 WARN BlockManagerMasterEndpoint: No more replicas available for rdd_87_15 !\n24/04/01 22:44:22 WARN BlockManagerMasterEndpoint: No more replicas available for rdd_23_1 !\n24/04/01 22:44:22 WARN BlockManagerMasterEndpoint: No more replicas available for rdd_87_25 !\n24/04/01 22:44:22 WARN BlockManagerMasterEndpoint: No more replicas available for rdd_23_27 !\n24/04/01 22:44:22 WARN BlockManagerMasterEndpoint: No more replicas available for rdd_23_3 !\n24/04/01 22:44:22 WARN BlockManagerMasterEndpoint: No more replicas available for rdd_23_0 !\n24/04/01 22:44:22 WARN BlockManagerMasterEndpoint: No more replicas available for rdd_23_32 !\n24/04/01 22:44:22 WARN BlockManagerMasterEndpoint: No more replicas available for rdd_23_4 !\n24/04/01 22:44:22 WARN BlockManagerMasterEndpoint: No more replicas available for rdd_87_5 !\n24/04/01 22:44:22 WARN BlockManagerMasterEndpoint: No more replicas available for rdd_23_2 !\n24/04/01 22:44:22 WARN BlockManagerMasterEndpoint: No more replicas available for rdd_87_6 !\n24/04/01 22:44:22 WARN BlockManagerMasterEndpoint: No more replicas available for rdd_23_35 !\n24/04/01 22:44:22 WARN BlockManagerMasterEndpoint: No more replicas available for rdd_55_0 !\n24/04/01 22:44:22 WARN BlockManagerMasterEndpoint: No more replicas available for rdd_23_14 !\n24/04/01 22:44:22 WARN BlockManagerMasterEndpoint: No more replicas available for rdd_55_2 !\n24/04/01 22:44:23 WARN YarnAllocator: Container from a bad node: container_1711994172856_0004_01_000003 on host: myspark33-m.c.ba843-team-5.internal. Exit status: 137. Diagnostics: [2024-04-01 22:44:22.928]Container killed on request. Exit code is 137\n[2024-04-01 22:44:22.928]Container exited with a non-zero exit code 137. \n[2024-04-01 22:44:22.934]Killed by external signal\n.\n24/04/01 22:44:23 WARN YarnSchedulerBackend$YarnSchedulerEndpoint: Requesting driver to remove executor 3 for reason Container from a bad node: container_1711994172856_0004_01_000003 on host: myspark33-m.c.ba843-team-5.internal. Exit status: 137. Diagnostics: [2024-04-01 22:44:22.928]Container killed on request. Exit code is 137\n[2024-04-01 22:44:22.928]Container exited with a non-zero exit code 137. \n[2024-04-01 22:44:22.934]Killed by external signal\n.\n24/04/01 22:44:23 ERROR YarnScheduler: Lost executor 3 on myspark33-m.c.ba843-team-5.internal: Container from a bad node: container_1711994172856_0004_01_000003 on host: myspark33-m.c.ba843-team-5.internal. Exit status: 137. Diagnostics: [2024-04-01 22:44:22.928]Container killed on request. Exit code is 137\n[2024-04-01 22:44:22.928]Container exited with a non-zero exit code 137. \n[2024-04-01 22:44:22.934]Killed by external signal\n.\n24/04/01 22:44:23 WARN TaskSetManager: Lost task 19.0 in stage 342.0 (TID 1940) (myspark33-m.c.ba843-team-5.internal executor 3): ExecutorLostFailure (executor 3 exited caused by one of the running tasks) Reason: Container from a bad node: container_1711994172856_0004_01_000003 on host: myspark33-m.c.ba843-team-5.internal. Exit status: 137. Diagnostics: [2024-04-01 22:44:22.928]Container killed on request. Exit code is 137\n[2024-04-01 22:44:22.928]Container exited with a non-zero exit code 137. \n[2024-04-01 22:44:22.934]Killed by external signal\n.\n24/04/01 22:44:23 WARN TaskSetManager: Lost task 18.0 in stage 342.0 (TID 1939) (myspark33-m.c.ba843-team-5.internal executor 3): ExecutorLostFailure (executor 3 exited caused by one of the running tasks) Reason: Container from a bad node: container_1711994172856_0004_01_000003 on host: myspark33-m.c.ba843-team-5.internal. Exit status: 137. Diagnostics: [2024-04-01 22:44:22.928]Container killed on request. Exit code is 137\n[2024-04-01 22:44:22.928]Container exited with a non-zero exit code 137. \n[2024-04-01 22:44:22.934]Killed by external signal\n.\n                                                                                \r"
        },
        {
          "name": "stdout",
          "output_type": "stream",
          "text": "+--------------------+----------+-------------+-------------------+\n|                name|total_tips|total_reviews|    rating_variance|\n+--------------------+----------+-------------+-------------------+\n|     Oxford Exchange|       243|         1938| 0.1789264886802334|\n|Handlebar Coffee ...|       146|         1065|0.18551480869157583|\n|Bittercreek Alehouse|       141|         1034|0.26106257440942043|\n|          Two Chicks|       127|         1549|0.23319761664491814|\n|     Eat New Orleans|       141|          926| 0.2885891934864878|\n|                Fork|       210|         1872| 0.2767063698781251|\n|       Tropical Isle|       120|          583| 0.2893085521719972|\n|              El Vez|       333|         3264|   0.35054080688655|\n|        Finch & Fork|       131|         1434|0.28000972138271774|\n|   Hansen's Sno-Bliz|       123|          520|0.27052641665917476|\n| The Patterson House|       185|         1219|0.22227237990127358|\n|  Chickie's & Pete's|       129|          603|0.22684310657657292|\n|Bru Burger Bar - ...|       229|         1658|0.17157742159600264|\n|  Bern's Steak House|       284|         3028|0.24750458102738532|\n|Hattie B’s Hot Ch...|       579|         6160| 0.1360051351524452|\n|               Ulele|       259|         3179|0.16370928184913763|\n|      Terakawa Ramen|       228|         1753|0.16998519398099537|\n|Juan's Flying Bur...|       134|          506|0.35391313763146726|\n|St. Elmo Steak House|       192|         2079|0.27799650988523883|\n|Nashville Interna...|       521|          990| 0.3670617090067837|\n+--------------------+----------+-------------+-------------------+\nonly showing top 20 rows\n\n"
        }
      ],
      "source": [
        "engagement_df = df_tips.groupBy(\"business_id\") \\\n",
        "                      .agg(count(\"*\").alias(\"total_tips\")) \\\n",
        "                      .join(df_review.groupBy(\"business_id\") \\\n",
        "                                    .agg(count(\"*\").alias(\"total_reviews\")), \"business_id\")\n",
        "rating_df = df_review.withColumn(\"year\", year(\"date\")) \\\n",
        "                           .groupBy(\"business_id\", \"year\") \\\n",
        "                           .agg(avg(\"stars\").alias(\"avg_yearly_stars\"))\n",
        "window = Window.partitionBy(\"business_id\")\n",
        "performance = engagement_df.where((col(\"total_tips\") > 100) & (col(\"total_reviews\") > 500)) \\\n",
        "                                                      .join(rating_df, \"business_id\") \\\n",
        "                                                      .withColumn(\"rating_variance\", stddev(\"avg_yearly_stars\").over(window)) \\\n",
        "                                                      .where(col(\"rating_variance\") < 0.5)\n",
        "df = performance.join(df_business, \"business_id\") \\\n",
        "                .select(df_business[\"name\"], \"total_tips\", \"total_reviews\", \"rating_variance\").distinct()\n",
        "df.show()"
      ]
    },
    {
      "cell_type": "markdown",
      "id": "ae7665db-240c-4236-b2f9-e3fc4b34c888",
      "metadata": {
        "id": "ae7665db-240c-4236-b2f9-e3fc4b34c888"
      },
      "source": [
        "This query uncovers businesses that consistently engage customers and maintain quality over time, as shown by their substantial number of tips and reviews combined with low variance in annual star ratings. In this query, minimum tips of 100 and minimum reviews of 500 are considered, as a random assignment, in order to carry out the analysis of moderate level businesses. Businesses highlighted in these results likely excel in customer satisfaction and retention, indicating a successful blend of quality service and active customer interaction. This data is instrumental for identifying industry leaders and models of operational excellence, offering valuable benchmarks for businesses striving to enhance their own customer engagement and service consistency."
      ]
    },
    {
      "cell_type": "markdown",
      "id": "2a8e3aac-e516-4ebd-bbfc-cde39b27ddd9",
      "metadata": {
        "id": "2a8e3aac-e516-4ebd-bbfc-cde39b27ddd9"
      },
      "source": [
        "**Q13. What are the top 5 most popular business categories based on the number of reviews recorded?**"
      ]
    },
    {
      "cell_type": "code",
      "execution_count": null,
      "id": "70b88e1b-99d0-4d5e-af1e-fc134023946c",
      "metadata": {
        "id": "70b88e1b-99d0-4d5e-af1e-fc134023946c",
        "outputId": "86aeb90b-3858-4908-b453-e84a1ef815c1"
      },
      "outputs": [
        {
          "name": "stderr",
          "output_type": "stream",
          "text": "[Stage 44:=====================================================>  (38 + 2) / 40]\r"
        },
        {
          "name": "stdout",
          "output_type": "stream",
          "text": "+--------------------+-------+\n|            category|  count|\n+--------------------+-------+\n|         Restaurants|4557625|\n|                Food|1749262|\n|           Nightlife|1498579|\n|                Bars|1422790|\n|American (Traditi...| 990473|\n+--------------------+-------+\n\n"
        },
        {
          "name": "stderr",
          "output_type": "stream",
          "text": "                                                                                \r"
        }
      ],
      "source": [
        "popular_categories = df_business.join(df_review, \"business_id\") \\\n",
        "                                .withColumn(\"category\", explode(split(col(\"categories\"), \", \"))) \\\n",
        "                                .groupBy(\"category\") \\\n",
        "                                .count() \\\n",
        "                                .orderBy(col(\"count\").desc()) \\\n",
        "                                .limit(5)\n",
        "\n",
        "popular_categories.show()"
      ]
    },
    {
      "cell_type": "markdown",
      "id": "42326dc3-c008-4ace-8606-ffe08190e881",
      "metadata": {
        "id": "42326dc3-c008-4ace-8606-ffe08190e881"
      },
      "source": [
        "This query reveals the top five most popular business categories based on the number of reviews they receive. Such information is crucial for understanding consumer engagement in providing feedback to the business. Businesses can use these insights to identify potential areas for marketing investment. It also helps in pinpointing which sectors are currently thriving in terms of customer interest and engagement."
      ]
    },
    {
      "cell_type": "markdown",
      "id": "1cede67f-1bd0-40fa-9875-06a2b16af4b5",
      "metadata": {
        "id": "1cede67f-1bd0-40fa-9875-06a2b16af4b5"
      },
      "source": [
        "**Q14. What are the most and least popular business categories in each state based on their ratings?**"
      ]
    },
    {
      "cell_type": "code",
      "execution_count": null,
      "id": "2838f36d-3d24-4bf2-a548-bd6c46345e49",
      "metadata": {
        "id": "2838f36d-3d24-4bf2-a548-bd6c46345e49",
        "outputId": "abbaa206-27ad-4990-a7dc-19deceb119fe"
      },
      "outputs": [
        {
          "name": "stderr",
          "output_type": "stream",
          "text": "                                                                                \r"
        }
      ],
      "source": [
        "df_business.createOrReplaceTempView(\"business\")\n",
        "query = \"\"\"\n",
        "WITH StateCategoryRatings AS (\n",
        "    SELECT state, category, AVG(stars) as avg_rating\n",
        "    FROM (\n",
        "        SELECT state, EXPLODE(SPLIT(categories, ', ')) AS category, stars\n",
        "        FROM business\n",
        "    )\n",
        "    GROUP BY state, category\n",
        "),\n",
        "RankedCategories AS (\n",
        "    SELECT state, category, avg_rating,\n",
        "    RANK() OVER (PARTITION BY state ORDER BY avg_rating DESC) as rank_desc,\n",
        "    RANK() OVER (PARTITION BY state ORDER BY avg_rating ASC) as rank_asc\n",
        "    FROM StateCategoryRatings\n",
        ")\n",
        "SELECT state, category, avg_rating,\n",
        "    CASE\n",
        "        WHEN rank_desc = 1 THEN 'Most Popular'\n",
        "        WHEN rank_asc = 1 THEN 'Least Popular'\n",
        "    END as Popularity\n",
        "FROM RankedCategories\n",
        "WHERE rank_desc = 1 OR rank_asc = 1\n",
        "\"\"\"\n",
        "category_popularity_ratings = spark.sql(query)\n",
        "category_popularity_ratings_pd = category_popularity_ratings.toPandas()"
      ]
    },
    {
      "cell_type": "code",
      "execution_count": null,
      "id": "e80cf181-37bf-4c43-ab65-7fd058521508",
      "metadata": {
        "id": "e80cf181-37bf-4c43-ab65-7fd058521508",
        "outputId": "aca2bede-bfb2-418e-e709-be032cdc69ef"
      },
      "outputs": [
        {
          "data": {
            "text/html": "<div>\n<style scoped>\n    .dataframe tbody tr th:only-of-type {\n        vertical-align: middle;\n    }\n\n    .dataframe tbody tr th {\n        vertical-align: top;\n    }\n\n    .dataframe thead th {\n        text-align: right;\n    }\n</style>\n<table border=\"1\" class=\"dataframe\">\n  <thead>\n    <tr style=\"text-align: right;\">\n      <th></th>\n      <th>state</th>\n      <th>category</th>\n      <th>avg_rating</th>\n      <th>Popularity</th>\n    </tr>\n  </thead>\n  <tbody>\n    <tr>\n      <th>0</th>\n      <td>AB</td>\n      <td>Television Service Providers</td>\n      <td>1.0</td>\n      <td>Least Popular</td>\n    </tr>\n    <tr>\n      <th>1</th>\n      <td>AB</td>\n      <td>Lawn Services</td>\n      <td>1.0</td>\n      <td>Least Popular</td>\n    </tr>\n    <tr>\n      <th>2</th>\n      <td>AB</td>\n      <td>Telecommunications</td>\n      <td>1.0</td>\n      <td>Least Popular</td>\n    </tr>\n    <tr>\n      <th>3</th>\n      <td>AB</td>\n      <td>Funeral Services &amp; Cemeteries</td>\n      <td>5.0</td>\n      <td>Most Popular</td>\n    </tr>\n    <tr>\n      <th>4</th>\n      <td>AB</td>\n      <td>Distilleries</td>\n      <td>5.0</td>\n      <td>Most Popular</td>\n    </tr>\n  </tbody>\n</table>\n</div>",
            "text/plain": "  state                       category  avg_rating     Popularity\n0    AB   Television Service Providers         1.0  Least Popular\n1    AB                  Lawn Services         1.0  Least Popular\n2    AB             Telecommunications         1.0  Least Popular\n3    AB  Funeral Services & Cemeteries         5.0   Most Popular\n4    AB                   Distilleries         5.0   Most Popular"
          },
          "execution_count": 33,
          "metadata": {},
          "output_type": "execute_result"
        }
      ],
      "source": [
        "category_popularity_ratings_pd.head()"
      ]
    },
    {
      "cell_type": "code",
      "execution_count": null,
      "id": "38f3bae9-3e4c-4604-98e1-b6aedd2d9138",
      "metadata": {
        "colab": {
          "referenced_widgets": [
            "ed35c782eda34a1594d8cd77ce130575",
            "750cf34ee01041dfaf589543f228bb4c"
          ]
        },
        "id": "38f3bae9-3e4c-4604-98e1-b6aedd2d9138",
        "outputId": "a2a15b3d-c246-4184-8ad2-9448e0fb8562"
      },
      "outputs": [
        {
          "data": {
            "application/vnd.jupyter.widget-view+json": {
              "model_id": "ed35c782eda34a1594d8cd77ce130575",
              "version_major": 2,
              "version_minor": 0
            },
            "text/plain": "Dropdown(description='State:', options=('AB', 'AZ', 'CA', 'CO', 'DE', 'FL', 'HI', 'ID', 'IL', 'IN', 'LA', 'MI'…"
          },
          "metadata": {},
          "output_type": "display_data"
        },
        {
          "data": {
            "application/vnd.jupyter.widget-view+json": {
              "model_id": "750cf34ee01041dfaf589543f228bb4c",
              "version_major": 2,
              "version_minor": 0
            },
            "text/plain": "Output()"
          },
          "metadata": {},
          "output_type": "display_data"
        }
      ],
      "source": [
        "states = category_popularity_ratings_pd['state'].unique()\n",
        "state_widget = widgets.Dropdown(options=states, description='State:')\n",
        "output = widgets.Output()\n",
        "def create_bar_chart(state):\n",
        "    with output:\n",
        "        output.clear_output(wait=True)\n",
        "        filtered_df = category_popularity_ratings_pd[category_popularity_ratings_pd['state'] == state]\n",
        "        filtered_df = filtered_df.sort_values(by='avg_rating', ascending=False)\n",
        "        fig = go.Figure(data=[go.Bar(x=filtered_df['category'], y=filtered_df['avg_rating'])])\n",
        "        fig.update_layout(title=f'Business Categories in {state} by Average Rating',\n",
        "                          xaxis_title='Category',\n",
        "                          yaxis_title='Average Rating')\n",
        "        fig.show()\n",
        "def on_state_change(change):\n",
        "    state = change['new']\n",
        "    create_bar_chart(state)\n",
        "state_widget.observe(on_state_change, names='value')\n",
        "display(state_widget, output)\n",
        "create_bar_chart(states[0])"
      ]
    },
    {
      "cell_type": "markdown",
      "source": [
        "Note: Kindly run the above cell to view the graph plotted here, in case the graph is not visible."
      ],
      "metadata": {
        "id": "G7p837trdQDk"
      },
      "id": "G7p837trdQDk"
    },
    {
      "cell_type": "markdown",
      "id": "7dcaee30-8c0e-40ec-b6fb-5f9e2568b5bf",
      "metadata": {
        "id": "7dcaee30-8c0e-40ec-b6fb-5f9e2568b5bf"
      },
      "source": [
        "This graph offers insights into both well-established and nascent market segments, guiding entrepreneurs and expanding businesses in identifying untapped opportunities and saturated markets. It highlights regions lacking certain services, suggesting potential areas for new ventures where customer needs are not fully met. Conversely, it advises caution in entering areas with highly popular businesses, indicating competitive markets where establishing a new foothold might be challenging. This strategic analysis is invaluable for making informed decisions about business development and market entry."
      ]
    },
    {
      "cell_type": "markdown",
      "id": "0e989916-bedb-4ed1-82ae-69dc009e80ae",
      "metadata": {
        "id": "0e989916-bedb-4ed1-82ae-69dc009e80ae"
      },
      "source": [
        "### 6. Key Observations and Summary"
      ]
    },
    {
      "cell_type": "markdown",
      "id": "7c6e61a7-3d0a-4d66-adbc-b4686e0c5639",
      "metadata": {
        "id": "7c6e61a7-3d0a-4d66-adbc-b4686e0c5639"
      },
      "source": [
        "#### 6.1 Key Observations\n",
        "\n",
        "1. Examination of review volumes across states such as Pennsylvania (PA) and Florida (FL) shows a robust engagement with Yelp's restaurant review system. The count of over one million reviews in each of these states shows us that a considerable willingness among customers to contribute feedback and sharing their experiences.\n",
        "2. Insights learned from compliment counts shed light on the quality of dining experiences across various cities. Notably, both Philadelphia and New Orleans emerge as leading cities. This  suggests these two cities are capable of providing exceptional dining encounters, as evidenced by the positive feedback garnered.\n",
        "3. Insights from the most and least popular businesses aids both entrepreneurs and Yelp in enhancing service offerings and grasping their market forte. For instance, in Florida, there is room for growth and improvement in Mobile Home Dealers and Home Developer sectors, indicating these markets have potential yet to be fully tapped.\n",
        "4. Broadly speaking, the restaurant sector garners the highest volume of reviews, reflecting its significant engagement with consumers.\n",
        "5. Overall, categories such as Mohels and Patent Law have achieved the highest ratings, while Electricity Supply and Foot Care represent areas with lower ratings, indicating differing levels of customer satisfaction and engagement across these business categories.\n",
        "6. The uniformity observed across various state distributions presents a challenge in conclusively determining the comparative feasibility of business ventures in one state over another. This consistency in trend implies the necessity to delve deeper, focusing on specific categories or city-level data within states, to extract more nuanced insights and facilitate more informed business decisions.\n",
        "7. It was observed that 5-star ratings are the most common. This suggests a generally positive sentiment from users or users are more likely to leave a review when they have an exceptional experience.\n",
        "8. A trend of increasing yearly review counts was observed, peaking around 2019 before a dramatic drop occurred in 2020 and 2021. This shows that Yelp has gained great success in their business since they founded and COVID-19 may be the main cause of the review amount decrease in 2020 and 2021. Yelp should maintain its main business strategy and try some new methods to recover its business from the COVID-19.\n",
        "9. States ranks on review score and num of businesses show a positive correlation, more businesses also mean a more overall satisfied customer. This relationships could signify that the more competitive a market is, the more satisfied a customer is overall.\n",
        "10. Pennsylvania and Florida were the top two states with a considerable number of businesses in our dataset. States could try to follow Penn and Florida’s business practices to add more businesses. Yelp could use better strategies to expand in other states."
      ]
    },
    {
      "cell_type": "markdown",
      "id": "1b04a87b-4758-4aba-979c-82adfb3eb878",
      "metadata": {
        "id": "1b04a87b-4758-4aba-979c-82adfb3eb878"
      },
      "source": [
        "#### 6.2 Summary\n",
        "\n",
        "Analyzing Yelp's data reveals crucial insights: High user engagement in states like Pennsylvania and Florida is reflected in over a million reviews, indicating strong customer feedback. Philadelphia and New Orleans stand out for their exemplary dining experiences. While the restaurant sector leads in review volume, varied satisfaction across different categories suggests diverse consumer experiences. The trend of uniformly distributed reviews across states and the impact of COVID-19 on recent trends highlight the need for more localized, nuanced analysis and adaptive business strategies."
      ]
    },
    {
      "cell_type": "markdown",
      "id": "76554d27-bf1f-45f0-a72a-c020c207c873",
      "metadata": {
        "id": "76554d27-bf1f-45f0-a72a-c020c207c873"
      },
      "source": [
        "### 7. References"
      ]
    },
    {
      "cell_type": "markdown",
      "id": "8ad86b3e-1cf0-4943-8ada-723a326ef02d",
      "metadata": {
        "id": "8ad86b3e-1cf0-4943-8ada-723a326ef02d"
      },
      "source": [
        "Throughout the duration of this project, ChatGPT has been utilized for the following purposes:\n",
        "1. To refine and articulate sentences in a professional and formal manner, ensuring clarity and precision in communication.\n",
        "2. To comprehend the application of the 'explode' function within PySpark, which is instrumental in segregating array values in a dataset, transforming them from a consolidated row format into distinct individual rows."
      ]
    }
  ],
  "metadata": {
    "kernelspec": {
      "display_name": "PySpark",
      "language": "python",
      "name": "pyspark"
    },
    "language_info": {
      "codemirror_mode": {
        "name": "ipython",
        "version": 3
      },
      "file_extension": ".py",
      "mimetype": "text/x-python",
      "name": "python",
      "nbconvert_exporter": "python",
      "pygments_lexer": "ipython3",
      "version": "3.10.8"
    },
    "colab": {
      "provenance": []
    }
  },
  "nbformat": 4,
  "nbformat_minor": 5
}